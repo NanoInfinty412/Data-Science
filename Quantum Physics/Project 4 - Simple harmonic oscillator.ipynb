{
 "cells": [
  {
   "cell_type": "markdown",
   "metadata": {},
   "source": [
    "## Physics 465: Computing Project 4\n",
    "## Baudouin M. RAMAZANI\n",
    "#### Investigating the properties of coherent states of the Simple Harmonic Oscillator (SHO).\n",
    "\n",
    "This week’s project is to investigate the behavior of special superpositions of energy\n",
    "eigenstates of the simple harmonic oscillator called coherent states. The setup will be\n",
    "similar to last time, except that the eigenstates in the superposition are SHO eigenstates,\n",
    "rather then infinite square well eigenstates.\n",
    "\n",
    "The result is\n",
    "$$ cn = α^{n}\\frac{C_o}{\\sqrt{n!}} $$\n",
    "\n",
    "$$\\psi_α = C_0\\sum_{n=0}^{\\infty}\\frac{α^n}{\\sqrt{n!}}\\psi_n$$"
   ]
  },
  {
   "cell_type": "code",
   "execution_count": 25,
   "metadata": {},
   "outputs": [],
   "source": [
    "#\n",
    "# cp4: Starter Code to Computing Project 4: Coherent states.\n",
    "#\n",
    "\n",
    "from vpython import *     # import all vpython functions including numpy incompatible sin, cos, exp, etc\n",
    "from numpy import *       # import all numpy compatible version of functions includign incompatible \"rate\"\n",
    "from vpython import rate  # import vpython rate function to replace numpy version\n",
    "import matplotlib.pyplot as pl\n"
   ]
  },
  {
   "cell_type": "code",
   "execution_count": 36,
   "metadata": {},
   "outputs": [],
   "source": [
    "def display(t):\n",
    "    psi=zeros(len(x),complex)\n",
    "    i = 0\n",
    "    while i < NHs:\n",
    "        psi += exp(-1j*(0.5 + i)*t)*coefs[i]*psis[i]\n",
    "        i+=1\n",
    "    psi = psi/sqrt((abs(psi)**2).sum())\n",
    "    i = 0\n",
    "    while i < NA:\n",
    "        SetArrowFromCN(3*psi[i],alist[i])\n",
    "        i+=1\n",
    "    Y = (x*(abs(psi)**2)).sum()\n",
    "    gr.plot(pos=(t, Y))\n",
    "def SetArrowFromCN( cn, a):\n",
    "    \"\"\"\n",
    "    SetArrowWithCN takes a complex number  cn  and an arrow object  a .\n",
    "    It sets the  y  and  z  components of the arrow s axis to the real \n",
    "    and imaginary parts of the given complex number. \n",
    "    \n",
    "    Just like Computing Project 1, except y and z for real/imag.\n",
    "    \"\"\"\n",
    "    a.axis.y = cn.real\n",
    "    a.axis.z = cn.imag\n",
    "    a.axis.x = 0.0\n",
    "    "
   ]
  },
  {
   "cell_type": "code",
   "execution_count": 37,
   "metadata": {},
   "outputs": [
    {
     "data": {
      "text/html": [
       "<div id=\"glowscript\" class=\"glowscript\"></div>"
      ],
      "text/plain": [
       "<IPython.core.display.HTML object>"
      ]
     },
     "metadata": {},
     "output_type": "display_data"
    },
    {
     "data": {
      "application/javascript": [
       "if (typeof Jupyter !== \"undefined\") { window.__context = { glowscript_container: $(\"#glowscript\").removeAttr(\"id\")};}else{ element.textContent = ' ';}"
      ],
      "text/plain": [
       "<IPython.core.display.Javascript object>"
      ]
     },
     "metadata": {},
     "output_type": "display_data"
    }
   ],
   "source": [
    "canvas()\n",
    "gd = graph(xtitle=\"t\", ytitle=\"&lt;x&gt;\", width=400, height=300)\n",
    "gr = gcurve(color=color.black)\n",
    "\n",
    "h_bar = 1.05e-34\n",
    "m = 9.1e-31\n",
    "    \n",
    "NA=80                          # how many arrows?\n",
    "a=15.0                         # range of x is -a/2 to a/2 in units \n",
    "                               # of $\\sqrt{\\hbar/m\\omega}$\n",
    "x = linspace(-a/2, a/2, NA)    # NA locations from -a/2 to a/2\n",
    "\n",
    "NHs=20\n",
    "hs=zeros((NHs,NA),double)    # the hermite polynomials, an NHs x NA array\n",
    "coefs=zeros(NHs,double)      # the coherent state coefficients, an NHs x 1 array\n",
    "psis=zeros((NHs,NA), double) # the stationary states, an NHs x NA array\n",
    "\n",
    "alpha=sqrt(10)               # <n> = 10.0\n",
    "\n",
    "\n",
    "hs[0]=0*x + 1.0              # zeroth Hermite Polynomial, H0\n",
    "hs[1]=2*x                    # first Hermite Polynomial, H1\n",
    "\n",
    "#\n",
    "# Compute the first NHs Hermite Polynomials,\n",
    "# use recurrence relation to get the rest of the Hn(x)\n",
    "#\n",
    "# (see e.g., http://en.wikipedia.org/wiki/Hermite_polynomials#Recursion_relation)\n",
    "#\n",
    "\n",
    "for n in range(1,NHs-1):\n",
    "    hs[n+1]=2*x*hs[n] - 2*n*hs[n-1]\n",
    "\n",
    "#\n",
    "# Use the coherent state coefficient relation to get the c[n]s.\n",
    "# avoid overflow by computing them in a loop. Don't worry about \n",
    "# the overall factor of c[0] since we'll renormalize our discrete \n",
    "# psi array later anyway.\n",
    "#\n",
    "\n",
    "coefs[0]=1.0*exp(-alpha**2)\n",
    "for i in range(1,NHs):\n",
    "    coefs[i]=coefs[i-1]*alpha/sqrt(i)\n",
    "\n",
    "#\n",
    "# Get the stationary states using the hs array and compute the \n",
    "# normalization factor in a loop to avoid overflow\n",
    "#\n",
    "\n",
    "normFactor = 1.0/pi**0.25\n",
    "psis[0]=exp(-x**2/2)\n",
    "for i in range(1,NHs):\n",
    "    normFactor = normFactor/sqrt(2.0*i)\n",
    "    psis[i]=normFactor*hs[i]*exp(-x**2/2)\n",
    "    \n",
    "#\n",
    "# Now do the sum to compute the initial wavefunction\n",
    "#\n",
    "\n",
    "psi=zeros(len(x),complex)\n",
    "for m in range(NHs):\n",
    "    psi += coefs[m]*psis[m]\n",
    "\n",
    "#\n",
    "# Normalize!\n",
    "#\n",
    "\n",
    "psi=psi/sqrt((abs(psi)**2).sum())\n",
    "\n",
    "#\n",
    "# build the arrows. Scale them on the screen by a factor \n",
    "# of 3 so they look nice.\n",
    "#\n",
    "\n",
    "alist = []\n",
    "for i in range(NA):\n",
    "    alist.append(arrow(pos=vec(x[i],0,0), color=color.red))\n",
    "    SetArrowFromCN(3*psi[i],alist[i])\n",
    "\n",
    "scene.autoscale = False\n",
    "t = 0.0\n",
    "dt = 2*pi/1000.0\n",
    "\n",
    "rate(30)\n",
    "\n",
    "#\n",
    "# After this.. create the \"time loop\" that animates the wavefunction\n",
    "# and computes the values for <x> and graphs them. \n",
    "#\n"
   ]
  },
  {
   "cell_type": "code",
   "execution_count": 38,
   "metadata": {},
   "outputs": [],
   "source": [
    "if __name__ == \"__main__\":\n",
    "    scene.autoscale = False\n",
    "    t = 0.0\n",
    "    dt = 2*pi/1000.0\n",
    "    full_cycle = 2*pi\n",
    "    while t < 2*full_cycle:\n",
    "        rate(80)\n",
    "        display(t)\n",
    "        t+=dt"
   ]
  },
  {
   "cell_type": "markdown",
   "metadata": {},
   "source": [
    "### Questions\n",
    "\n",
    "#### 1) Normalize!\n",
    " \n",
    "$$\\psi_α = C_0\\sum_{n=0}^{\\infty}\\frac{α^n}{\\sqrt{n!}}\\psi_n$$\n",
    "\n",
    "Let $(\\psi_α)^2 = 1$\n",
    "\n",
    " $$  C_0^2\\sum_{n=0}^{\\infty}\\frac{α^{2n}}{\\sqrt{n!}} = 1$$\n",
    " \n",
    " $\\sum_{n=0}^{\\infty}\\frac{α^{2n}}{\\sqrt{n!}} -> e^{-\\alpha^2}$\n",
    "  $$C_0 = e^{-\\alpha^2/2}$$\n",
    "\n",
    "\n",
    "#### 2)  Show that the expectation value of n is $|\\alpha|^2.$\n",
    "$\\sum_{n=0}^{\\infty}|C_n|^2n = \\sum_{n=0}^{\\infty}e^{-\\alpha^2}e^{\\alpha^2}n = \\sum_{n=0}^{\\infty}n = |\\alpha|^2 $  \n",
    "\n",
    "#### 3) Find an approximate relationship between the value of the parameter $\\alpha$ and the amplitude of the variation in $<x>$ over time.\n",
    "\n",
    "$E = h\\omega(\\frac{2n+1}{2}) = h\\omega(\\frac{2\\alpha^2+1}{2}) = h\\omega\\alpha^2 + \\frac{h\\omega}{2}$\n",
    "\n",
    "=> $\\frac{1}{2}kx^2 = \\alpha^2h\\omega$\n",
    "=> $x = \\sqrt{\\frac{2h\\omega\\alpha^2}{k}} = \\alpha\\sqrt{\\frac{2h}{m}} $"
   ]
  },
  {
   "cell_type": "code",
   "execution_count": 48,
   "metadata": {},
   "outputs": [
    {
     "data": {
      "image/png": "[encoded data removed]",
      "text/plain": [
       "<Figure size 432x288 with 1 Axes>"
      ]
     },
     "metadata": {
      "needs_background": "light"
     },
     "output_type": "display_data"
    }
   ],
   "source": [
    "Alpha = range(100)\n",
    "x = []\n",
    "for i in range(100):\n",
    "    x.append(Alpha[i]*sqrt((2*h_bar)/m))\n",
    "pl.plot(x,Alpha) \n",
    "pl.show()\n"
   ]
  },
  {
   "cell_type": "code",
   "execution_count": 47,
   "metadata": {},
   "outputs": [
    {
     "ename": "TypeError",
     "evalue": "unsupported operand type(s) for /: 'range' and 'int'",
     "output_type": "error",
     "traceback": [
      "\u001b[1;31m---------------------------------------------------------------------------\u001b[0m",
      "\u001b[1;31mTypeError\u001b[0m                                 Traceback (most recent call last)",
      "\u001b[1;32m<ipython-input-47-3f851310cd0c>\u001b[0m in \u001b[0;36m<module>\u001b[1;34m\u001b[0m\n\u001b[1;32m----> 1\u001b[1;33m \u001b[0mrange\u001b[0m\u001b[1;33m(\u001b[0m\u001b[1;36m1\u001b[0m\u001b[1;33m,\u001b[0m\u001b[1;36m5\u001b[0m\u001b[1;33m)\u001b[0m \u001b[1;33m/\u001b[0m \u001b[1;36m2\u001b[0m\u001b[1;33m\u001b[0m\u001b[1;33m\u001b[0m\u001b[0m\n\u001b[0m",
      "\u001b[1;31mTypeError\u001b[0m: unsupported operand type(s) for /: 'range' and 'int'"
     ]
    }
   ],
   "source": [
    "y = "
   ]
  },
  {
   "cell_type": "code",
   "execution_count": null,
   "metadata": {},
   "outputs": [],
   "source": []
  }
 ],
 "metadata": {
  "kernelspec": {
   "display_name": "Python 3",
   "language": "python",
   "name": "python3"
  },
  "language_info": {
   "codemirror_mode": {
    "name": "ipython",
    "version": 3
   },
   "file_extension": ".py",
   "mimetype": "text/x-python",
   "name": "python",
   "nbconvert_exporter": "python",
   "pygments_lexer": "ipython3",
   "version": "3.7.1"
  }
 },
 "nbformat": 4,
 "nbformat_minor": 2
}
