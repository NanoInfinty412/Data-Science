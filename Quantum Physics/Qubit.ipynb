{
 "cells": [
  {
   "cell_type": "markdown",
   "metadata": {},
   "source": [
    "## Physics 465: Computing Project 5\n",
    "## Baudouin M. RAMAZANI\n",
    "###  Designing a Qubit for a Quantum Computer "
   ]
  },
  {
   "cell_type": "code",
   "execution_count": 18,
   "metadata": {},
   "outputs": [
    {
     "data": {
      "text/html": [
       "<div id=\"glowscript\" class=\"glowscript\"></div>"
      ],
      "text/plain": [
       "<IPython.core.display.HTML object>"
      ]
     },
     "metadata": {},
     "output_type": "display_data"
    },
    {
     "data": {
      "application/javascript": [
       "if (typeof Jupyter !== \"undefined\") { window.__context = { glowscript_container: $(\"#glowscript\").removeAttr(\"id\")};}else{ element.textContent = ' ';}"
      ],
      "text/plain": [
       "<IPython.core.display.Javascript object>"
      ]
     },
     "metadata": {},
     "output_type": "display_data"
    }
   ],
   "source": [
    "import vpython as vp\n",
    "import matplotlib.pyplot as pl\n",
    "import numpy as np\n",
    "from vpython import rate \n",
    "vp.canvas()"
   ]
  },
  {
   "cell_type": "code",
   "execution_count": 19,
   "metadata": {},
   "outputs": [],
   "source": [
    "def SetArrowFromCN(cn, a):\n",
    "    \"\"\"\n",
    "    SetArrowWithCN takes a complex number  cn  and an arrow object  a .\n",
    "    It sets the  y  and  z  components of the arrow s axis to the real \n",
    "    and imaginary parts of the given complex number. \n",
    "    \n",
    "    Just like Computing Project 1, except y and z for real/imag.\n",
    "    \"\"\"\n",
    "    a.axis.y = cn.real\n",
    "    a.axis.z = cn.imag\n",
    "    a.axis.x = 0.0\n",
    "def f1(x):\n",
    "    return np.cos(k1*x)\n",
    "    \n",
    "def f2(x):\n",
    "    return np.sin(k2*x)\n",
    "    \n",
    "def f3(x):\n",
    "    return f1(a)*np.exp(-abs(kap1*x))/np.exp(-abs(kap1*a))\n",
    "    \n",
    "def f4(x):\n",
    "    return np.sign(x)*f2(a)*np.exp(-abs(kap2*x))/np.exp(-abs(kap2*a))\n"
   ]
  },
  {
   "cell_type": "code",
   "execution_count": 21,
   "metadata": {},
   "outputs": [
    {
     "data": {
      "application/javascript": [
       "if (typeof Jupyter !== \"undefined\") {require.undef(\"nbextensions/vpython_libraries/glow.min\");}else{element.textContent = ' ';}"
      ],
      "text/plain": [
       "<IPython.core.display.Javascript object>"
      ]
     },
     "metadata": {},
     "output_type": "display_data"
    },
    {
     "data": {
      "application/javascript": [
       "if (typeof Jupyter !== \"undefined\") {require.undef(\"nbextensions/vpython_libraries/glowcomm\");}else{element.textContent = ' ';}"
      ],
      "text/plain": [
       "<IPython.core.display.Javascript object>"
      ]
     },
     "metadata": {},
     "output_type": "display_data"
    },
    {
     "data": {
      "application/javascript": [
       "if (typeof Jupyter !== \"undefined\") {require.undef(\"nbextensions/vpython_libraries/jquery-ui.custom.min\");}else{element.textContent = ' ';}"
      ],
      "text/plain": [
       "<IPython.core.display.Javascript object>"
      ]
     },
     "metadata": {},
     "output_type": "display_data"
    },
    {
     "data": {
      "application/javascript": [
       "if (typeof Jupyter !== \"undefined\") {require([\"nbextensions/vpython_libraries/glow.min\"], function(){console.log(\"GLOW LOADED\");});}else{element.textContent = ' ';}"
      ],
      "text/plain": [
       "<IPython.core.display.Javascript object>"
      ]
     },
     "metadata": {},
     "output_type": "display_data"
    },
    {
     "data": {
      "application/javascript": [
       "if (typeof Jupyter !== \"undefined\") {require([\"nbextensions/vpython_libraries/glowcomm\"], function(){console.log(\"GLOWCOMM LOADED\");});}else{element.textContent = ' ';}"
      ],
      "text/plain": [
       "<IPython.core.display.Javascript object>"
      ]
     },
     "metadata": {},
     "output_type": "display_data"
    },
    {
     "data": {
      "application/javascript": [
       "if (typeof Jupyter !== \"undefined\") {require([\"nbextensions/vpython_libraries/jquery-ui.custom.min\"], function(){console.log(\"JQUERY LOADED\");});}else{element.textContent = ' ';}"
      ],
      "text/plain": [
       "<IPython.core.display.Javascript object>"
      ]
     },
     "metadata": {},
     "output_type": "display_data"
    }
   ],
   "source": [
    "\n",
    "gd = vp.graph(title=\"<x> vs. t\", xtitle=\"t\", ytitle=\"<x>\", foreground=vp.color.black, background=vp.color.white)\n",
    "                \n",
    "g1 = vp.gcurve(color=vp.color.black)\n",
    "\n",
    "vp.scene.background=vp.color.white\n",
    "\n",
    "hbar=1.05e-34                    # Js\n",
    "m=0.067*9.1e-31                  # and m_eff=kg\n",
    "NA=80                            # how many arrows?\n",
    "NA2=int(NA/2)\n",
    "a=5.34e-9                        # width for 5 bound states and 1eV well depth.\n",
    "c = 3.0e8\n",
    "\n",
    "gd = vp.graph(title=\"<x> vs. t\", xtitle=\"t\", ytitle=\"<x>\", foreground=vp.color.black, background=vp.color.white)\n",
    "                \n",
    "g1 = vp.gcurve(color=vp.color.black)\n",
    "\n",
    "vp.scene.background=vp.color.white\n",
    "\n",
    "hbar=1.05e-34                    # Js\n",
    "m=0.067*9.1e-31                  # and m_eff=kg\n",
    "NA=80                            # how many arrows?\n",
    "NA2=int(NA/2)\n",
    "a=5.34e-9                        # width for 5 bound states and 1eV well depth.\n",
    "x = np.linspace(-2.0*a, 2.0*a, NA)  # NA locations from -2a to 2a\n",
    "\n",
    "z0 = 0.75*np.pi                      # Not a great choice. Why not? Pick a better one\n",
    "a = (z0 * hbar)/np.sqrt(2*m*(1.6e-20))\n",
    "k0 = z0/a                 "
   ]
  },
  {
   "cell_type": "code",
   "execution_count": null,
   "metadata": {},
   "outputs": [],
   "source": [
    "\n",
    "z1 = 1.2\n",
    "z2 = 2.12535\n",
    "\n",
    "k1 = k0*z1/z0\n",
    "k2 = k0*z2/z0\n",
    "\n",
    "kap1 = np.sqrt(k0**2 - k1**2)\n",
    "kap2 = np.sqrt(k0**2 - k2**2)\n",
    "\n",
    "\n",
    "E1 = -(hbar*kap1)**2/(2.0*m)\n",
    "E2 = -(hbar*kap2)**2/(2.0*m)\n",
    "\n",
    "\n",
    "w1 = E1/hbar\n",
    "w2 = E2/hbar\n",
    "\n",
    "wn=[w1,w2]\n",
    "\n",
    "\n",
    "t = 0.0\n",
    "dt = (2*np.pi/(w2-w1))/200.0\n",
    "\n",
    "psis = np.zeros((2,NA),np.double)\n",
    "\n",
    "\n",
    "\n",
    "    \n",
    "psis[0] = np.piecewise(x, [x<-a, (x>=-a)&(x<=a), x>a], [f3, f1, f3])\n",
    "psis[0] = psis[0]/np.sqrt((abs(psis[0])**2).sum())\n",
    "psis[1] = np.piecewise(x, [x<-a, (x>=-a)&(x<=a), x>a], [f4, f2, f4])\n",
    "psis[1] = psis[1]/np.sqrt((abs(psis[1])**2).sum())\n",
    "\n",
    "# Decide how much of each bound state to use in the superposition state:\n",
    "#\n",
    "# Edit the \"if\" statement to pick the one you want. The first\n",
    "# clause with a '1' wins.\n",
    "#\n",
    "\n",
    "if 0:\n",
    "    # Equal parts 1 and 2\n",
    "    c1 =1.0/np.sqrt(2)\n",
    "    c2 =1.0/np.sqrt(2)\n",
    "    \n",
    "elif 1:\n",
    "    # all 2 and no 1\n",
    "    c1=0.0\n",
    "    c2=1.0\n",
    "    \n",
    "elif 0:\n",
    "    # all 1 and no 2\n",
    "    c1=1.0\n",
    "    c2=0.0\n",
    "    \n",
    "cn=[c1,c2]                               # array of amplitudes\n",
    "t = 0.0                                   # start at t=0\n",
    "\n",
    "psi = np.zeros(NA, complex)                  # construct psi at time '0'\n",
    "for i in range(2):\n",
    "    psi = psi + cn[i]*psis[i]\n",
    "\n",
    "arrowScale = a/psis[0][NA2]              # scale to make the middle of psis[0] about 3a high\n",
    "\n",
    "alist = []\n",
    "for i in range(NA):\n",
    "    alist.append(vp.arrow(pos=vp.vec(x[i],0,0), axis=vp.vec(0,a,0), color=vp.color.red))\n",
    "    SetArrowFromCN(arrowScale*psi[i],alist[i])\n",
    "\n",
    "#\n",
    "# Now, all the arrows are made, and the basis functions and coefficients are \n",
    "# set. Create a loop that produces the correct time evolutions.\n",
    "#"
   ]
  },
  {
   "cell_type": "code",
   "execution_count": null,
   "metadata": {},
   "outputs": [],
   "source": [
    "def timeloop(t):\n",
    "    psi = np.zeros(len(x),complex)\n",
    "    for i in range(len(cn)):\n",
    "        psi = psi + cn[i]*psis[i]*np.exp(-1j*(wn[i])*t)\n",
    "    psi = psi/np.sqrt((abs(psi)**2).sum()) \n",
    "    for i in range(NA):\n",
    "        SetArrowFromCN(arrowScale*psi[i],alist[i])\n",
    "    expect = (x*(abs(psi)**2)).sum()\n",
    "    g1.plot(pos=(t, psi[i].real))\n",
    "while t < np.pi:\n",
    "    rate(30)\n",
    "    timeloop(t)\n",
    "    t+=dt"
   ]
  },
  {
   "cell_type": "markdown",
   "metadata": {},
   "source": [
    "![gstate.png](gstate.png)\n",
    "![gstatepsi.png](gstatepsi.png)\n",
    "![Sstate.png](Sstate.png)\n",
    "![Sstatepsi.png](Sstatepsi.png)\n",
    "![Superposition.png](Superposition.png)\n",
    "![Superpositionpsi.png](Superpositionpsi.png)"
   ]
  },
  {
   "cell_type": "markdown",
   "metadata": {},
   "source": [
    "# Questions\n",
    "\n",
    "### 1 -\n",
    "Use your knowledge of the finite square well to predict the frequencies displayed in Fig. 2, Fig. 4 and Fig. 6. Compare your theoretical predictions to your computational results as shown in your graphs.\n"
   ]
  },
  {
   "cell_type": "code",
   "execution_count": null,
   "metadata": {},
   "outputs": [],
   "source": [
    "print(\"w1: \",w1,\"\\nw2: \",w2)\n",
    "T1 = 0.53e-13\n",
    "T2 = 2.22e-13\n",
    "\n",
    "w1_t = 2*np.pi*(1/T1)\n",
    "w2_t = 2*np.pi*(1/T2)\n",
    "\n",
    "w1_t,w2_t"
   ]
  },
  {
   "cell_type": "markdown",
   "metadata": {},
   "source": [
    "### 2 -\n",
    "\n",
    "Explain why ω2 appears to be lower that ω1 for this finite square well."
   ]
  },
  {
   "cell_type": "markdown",
   "metadata": {},
   "source": [
    "$\\omega_{1}$ is greater than $\\omega_{2}$ because  $\\lvert Energy_{1}\\rvert  >  \\lvert Energy_{2}\\rvert $\n",
    "\n",
    "$\\lvert \\hbar \\omega_{1}\\rvert  >  \\lvert \\hbar \\omega_{2}\\rvert $"
   ]
  },
  {
   "cell_type": "markdown",
   "metadata": {},
   "source": [
    "### 3 - \n",
    "If we wanted to use a laser to bump your qubit from state 1 to state 2, what wavelength of light should we use? Explain.\n"
   ]
  },
  {
   "cell_type": "code",
   "execution_count": 19,
   "metadata": {},
   "outputs": [
    {
     "name": "stdout",
     "output_type": "stream",
     "text": [
      "lamda:  2.088639053254438e-05\n"
     ]
    }
   ],
   "source": [
    "wavelength = 2 * np.pi *3e8/(w1_theory - w2_theory)\n",
    "print(\"lambda: \",wavelength)"
   ]
  },
  {
   "cell_type": "markdown",
   "metadata": {},
   "source": [
    "## Received help from D. LANADE"
   ]
  },
  {
   "cell_type": "code",
   "execution_count": null,
   "metadata": {},
   "outputs": [],
   "source": []
  }
 ],
 "metadata": {
  "kernelspec": {
   "display_name": "Python 3",
   "language": "python",
   "name": "python3"
  }
 },
 "nbformat": 4,
 "nbformat_minor": 2
}
