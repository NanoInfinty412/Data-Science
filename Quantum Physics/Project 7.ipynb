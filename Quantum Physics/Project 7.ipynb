{
 "cells": [
  {
   "cell_type": "markdown",
   "metadata": {},
   "source": [
    "### Baudouin M. RAMAZANI\n",
    "\n",
    "#### PHYS60\n",
    "\n",
    "The point of this project is to learn how to separately apply the kinetic and potential parts of the hamiltonian operators so as to evolve a wavefunction in time. The context of this exercise is the penetration of a barrier by a wave packet, but the technique can be applied to many other situations of interest.\n"
   ]
  },
  {
   "cell_type": "code",
   "execution_count": 6,
   "metadata": {},
   "outputs": [],
   "source": [
    "#\n",
    "# cp7: Starter for Computing Project 7: FFT evolution with potential energy\n",
    "#\n",
    "\n",
    "from vpython import *\n",
    "from numpy import *\n",
    "from vpython import rate\n",
    "inv = linalg.inv\n"
   ]
  },
  {
   "cell_type": "code",
   "execution_count": 7,
   "metadata": {},
   "outputs": [
    {
     "data": {
      "text/html": [
       "<div id=\"glowscript\" class=\"glowscript\"></div>"
      ],
      "text/plain": [
       "<IPython.core.display.HTML object>"
      ]
     },
     "metadata": {},
     "output_type": "display_data"
    },
    {
     "data": {
      "application/javascript": [
       "if (typeof Jupyter !== \"undefined\") { window.__context = { glowscript_container: $(\"#glowscript\").removeAttr(\"id\")};}else{ element.textContent = ' ';}"
      ],
      "text/plain": [
       "<IPython.core.display.Javascript object>"
      ]
     },
     "metadata": {},
     "output_type": "display_data"
    },
    {
     "name": "stdout",
     "output_type": "stream",
     "text": [
      "Theoretical Transmission Probability: T= 0.2971150726971718\n"
     ]
    },
    {
     "ename": "KeyboardInterrupt",
     "evalue": "",
     "output_type": "error",
     "traceback": [
      "\u001b[1;31m---------------------------------------------------------------------------\u001b[0m",
      "\u001b[1;31mKeyboardInterrupt\u001b[0m                         Traceback (most recent call last)",
      "\u001b[1;32m<ipython-input-7-9154b8b8c7f9>\u001b[0m in \u001b[0;36m<module>\u001b[1;34m\u001b[0m\n\u001b[0;32m    122\u001b[0m \u001b[0mmaxT\u001b[0m\u001b[1;33m=\u001b[0m\u001b[1;36m0.0\u001b[0m\u001b[1;33m\u001b[0m\u001b[1;33m\u001b[0m\u001b[0m\n\u001b[0;32m    123\u001b[0m \u001b[1;32mwhile\u001b[0m \u001b[1;32mTrue\u001b[0m\u001b[1;33m:\u001b[0m\u001b[1;33m\u001b[0m\u001b[1;33m\u001b[0m\u001b[0m\n\u001b[1;32m--> 124\u001b[1;33m     \u001b[0mrate\u001b[0m\u001b[1;33m(\u001b[0m\u001b[1;36m1.0\u001b[0m\u001b[1;33m/\u001b[0m\u001b[0mdt\u001b[0m\u001b[1;33m)\u001b[0m\u001b[1;33m\u001b[0m\u001b[1;33m\u001b[0m\u001b[0m\n\u001b[0m\u001b[0;32m    125\u001b[0m     \u001b[1;31m#\u001b[0m\u001b[1;33m\u001b[0m\u001b[1;33m\u001b[0m\u001b[1;33m\u001b[0m\u001b[0m\n\u001b[0;32m    126\u001b[0m     \u001b[1;31m# Here's where you put in the code to use the FFT/IFFT\u001b[0m\u001b[1;33m\u001b[0m\u001b[1;33m\u001b[0m\u001b[1;33m\u001b[0m\u001b[0m\n",
      "\u001b[1;32mC:\\Users\\ramaz\\AppData\\Roaming\\Python\\Python37\\site-packages\\vpython\\rate_control.py\u001b[0m in \u001b[0;36m__call__\u001b[1;34m(self, N)\u001b[0m\n\u001b[0;32m    264\u001b[0m         \u001b[0mself\u001b[0m\u001b[1;33m.\u001b[0m\u001b[0mrval\u001b[0m \u001b[1;33m=\u001b[0m \u001b[0mN\u001b[0m\u001b[1;33m\u001b[0m\u001b[1;33m\u001b[0m\u001b[0m\n\u001b[0;32m    265\u001b[0m         \u001b[1;32mif\u001b[0m \u001b[0mself\u001b[0m\u001b[1;33m.\u001b[0m\u001b[0mrval\u001b[0m \u001b[1;33m<\u001b[0m \u001b[1;36m1\u001b[0m\u001b[1;33m:\u001b[0m \u001b[1;32mraise\u001b[0m \u001b[0mValueError\u001b[0m\u001b[1;33m(\u001b[0m\u001b[1;34m\"rate value must be greater than or equal to 1\"\u001b[0m\u001b[1;33m)\u001b[0m\u001b[1;33m\u001b[0m\u001b[1;33m\u001b[0m\u001b[0m\n\u001b[1;32m--> 266\u001b[1;33m         \u001b[0msuper\u001b[0m\u001b[1;33m(\u001b[0m\u001b[0m_RateKeeper2\u001b[0m\u001b[1;33m,\u001b[0m \u001b[0mself\u001b[0m\u001b[1;33m)\u001b[0m\u001b[1;33m.\u001b[0m\u001b[0m__call__\u001b[0m\u001b[1;33m(\u001b[0m\u001b[0mself\u001b[0m\u001b[1;33m.\u001b[0m\u001b[0mrval\u001b[0m\u001b[1;33m)\u001b[0m \u001b[1;31m## calls __call__ in rate_control.py\u001b[0m\u001b[1;33m\u001b[0m\u001b[1;33m\u001b[0m\u001b[0m\n\u001b[0m\u001b[0;32m    267\u001b[0m \u001b[1;33m\u001b[0m\u001b[0m\n\u001b[0;32m    268\u001b[0m \u001b[1;33m\u001b[0m\u001b[0m\n",
      "\u001b[1;32mC:\\Users\\ramaz\\AppData\\Roaming\\Python\\Python37\\site-packages\\vpython\\rate_control.py\u001b[0m in \u001b[0;36m__call__\u001b[1;34m(self, maxRate)\u001b[0m\n\u001b[0;32m    218\u001b[0m             \u001b[0mdt\u001b[0m \u001b[1;33m=\u001b[0m \u001b[0mself\u001b[0m\u001b[1;33m.\u001b[0m\u001b[0mlastSleep\u001b[0m \u001b[1;33m+\u001b[0m \u001b[0mself\u001b[0m\u001b[1;33m.\u001b[0m\u001b[0mcalls\u001b[0m\u001b[1;33m*\u001b[0m\u001b[1;33m(\u001b[0m\u001b[0mself\u001b[0m\u001b[1;33m.\u001b[0m\u001b[0muserTime\u001b[0m \u001b[1;33m+\u001b[0m \u001b[0mself\u001b[0m\u001b[1;33m.\u001b[0m\u001b[0mcallTime\u001b[0m \u001b[1;33m+\u001b[0m \u001b[0mself\u001b[0m\u001b[1;33m.\u001b[0m\u001b[0mdelay\u001b[0m\u001b[1;33m)\u001b[0m \u001b[1;33m+\u001b[0m\u001b[0;31m \u001b[0m\u001b[0;31m\\\u001b[0m\u001b[1;33m\u001b[0m\u001b[1;33m\u001b[0m\u001b[0m\n\u001b[0;32m    219\u001b[0m                  \u001b[0mrenders\u001b[0m\u001b[1;33m*\u001b[0m\u001b[0mself\u001b[0m\u001b[1;33m.\u001b[0m\u001b[0mrenderTime\u001b[0m \u001b[1;33m+\u001b[0m \u001b[0msleeps\u001b[0m\u001b[1;33m*\u001b[0m\u001b[0mself\u001b[0m\u001b[1;33m.\u001b[0m\u001b[0minteractionPeriod\u001b[0m \u001b[1;33m-\u001b[0m \u001b[0m_clock\u001b[0m\u001b[1;33m(\u001b[0m\u001b[1;33m)\u001b[0m\u001b[1;33m\u001b[0m\u001b[1;33m\u001b[0m\u001b[0m\n\u001b[1;32m--> 220\u001b[1;33m             \u001b[0m_sleep\u001b[0m\u001b[1;33m(\u001b[0m\u001b[0mdt\u001b[0m\u001b[1;33m)\u001b[0m\u001b[1;33m\u001b[0m\u001b[1;33m\u001b[0m\u001b[0m\n\u001b[0m\u001b[0;32m    221\u001b[0m             \u001b[0mself\u001b[0m\u001b[1;33m.\u001b[0m\u001b[0mlastSleep\u001b[0m \u001b[1;33m=\u001b[0m \u001b[0m_clock\u001b[0m\u001b[1;33m(\u001b[0m\u001b[1;33m)\u001b[0m\u001b[1;33m\u001b[0m\u001b[1;33m\u001b[0m\u001b[0m\n\u001b[0;32m    222\u001b[0m             \u001b[0mself\u001b[0m\u001b[1;33m.\u001b[0m\u001b[0mcalls\u001b[0m \u001b[1;33m=\u001b[0m \u001b[1;36m0\u001b[0m\u001b[1;33m\u001b[0m\u001b[1;33m\u001b[0m\u001b[0m\n",
      "\u001b[1;32mC:\\Users\\ramaz\\AppData\\Roaming\\Python\\Python37\\site-packages\\vpython\\rate_control.py\u001b[0m in \u001b[0;36m_sleep\u001b[1;34m(dt)\u001b[0m\n\u001b[0;32m     60\u001b[0m         \u001b[0mdtsleep\u001b[0m \u001b[1;33m=\u001b[0m \u001b[0mnticks\u001b[0m\u001b[1;33m*\u001b[0m\u001b[0m_tick\u001b[0m\u001b[1;33m\u001b[0m\u001b[1;33m\u001b[0m\u001b[0m\n\u001b[0;32m     61\u001b[0m         \u001b[0mt\u001b[0m \u001b[1;33m=\u001b[0m \u001b[0m_clock\u001b[0m\u001b[1;33m(\u001b[0m\u001b[1;33m)\u001b[0m\u001b[1;33m\u001b[0m\u001b[1;33m\u001b[0m\u001b[0m\n\u001b[1;32m---> 62\u001b[1;33m         \u001b[0mtime\u001b[0m\u001b[1;33m.\u001b[0m\u001b[0msleep\u001b[0m\u001b[1;33m(\u001b[0m\u001b[0mdtsleep\u001b[0m\u001b[1;33m)\u001b[0m\u001b[1;33m\u001b[0m\u001b[1;33m\u001b[0m\u001b[0m\n\u001b[0m\u001b[0;32m     63\u001b[0m         \u001b[0mt\u001b[0m \u001b[1;33m=\u001b[0m \u001b[0m_clock\u001b[0m\u001b[1;33m(\u001b[0m\u001b[1;33m)\u001b[0m\u001b[1;33m-\u001b[0m\u001b[0mt\u001b[0m\u001b[1;33m\u001b[0m\u001b[1;33m\u001b[0m\u001b[0m\n\u001b[0;32m     64\u001b[0m         \u001b[0mdt\u001b[0m \u001b[1;33m-=\u001b[0m \u001b[0mt\u001b[0m\u001b[1;33m\u001b[0m\u001b[1;33m\u001b[0m\u001b[0m\n",
      "\u001b[1;31mKeyboardInterrupt\u001b[0m: "
     ]
    }
   ],
   "source": [
    "canvas(width=600, height=300)\n",
    "gd = graph(title=\"P(left) and P(right) vs. t\", xtitle=\"t\", ytitle=\"Probability\",\n",
    "          width=600, height=200)\n",
    "\n",
    "def SetArrowFromCN( cn, a):\n",
    "    \"\"\"\n",
    "    SetArrowWithCN takes a complex number  cn  and an arrow object  a .\n",
    "    It sets the  y  and  z  components of the arrow s axis to the real \n",
    "    and imaginary parts of the given complex number. \n",
    "    \n",
    "    Just like Computing Project 1, except y and z for real/imag.\n",
    "    \"\"\"\n",
    "    a.axis.y = cn.real\n",
    "    a.axis.z = cn.imag\n",
    "    a.axis.x = 0.0\n",
    "    \n",
    "\n",
    "gL = gcurve(color=color.blue)\n",
    "gR = gcurve(color=color.green)\n",
    "\n",
    "hbar=1.0                       # use units where hbar = 1\n",
    "m=1.0                          # and m=1.0\n",
    "NA=500                         # how many arrows?\n",
    "NA2=int(NA/2)                  # half of NA\n",
    "b=30.0                         # range of x is -b/2 to b/2\n",
    "a=0.01*b                       # half size of barrier (using Griffiths' notation)\n",
    "V0=10.0                        # height of potential barrier\n",
    "\n",
    "x = linspace(-b/2, b/2, NA)    # NA locations from -b/2 to b/2\n",
    "n = arange(NA)                 # n = array([0,1,2,3,.... N-1])\n",
    "n = piecewise(n, [n<NA2, n>=NA2], [lambda n:n, lambda n:n - NA])\n",
    "                               # adjust n to give correct states with k<0\n",
    "k = 2*n*pi/b\n",
    "Energy = (hbar*k)**2/(2.0*m)   # get the KE array (one element for each k)\n",
    "omega = Energy/hbar            # get the corresponding frequency\n",
    "\n",
    "t = 0.0\n",
    "dt = 0.005\n",
    "kMin = 2*pi/b                  # lowest possible wave number\n",
    "k0 = 20*kMin                   # nice packet central wave number\n",
    "sigma = b/15.0                 # make packet fairly narrow\n",
    "arrowScale = sqrt(NA*b*sigma)/10.0 # arbitrary scaling factor\n",
    "\n",
    "psi=exp(1j*k0*x - ((x+1*b/4)/sigma)**2)   # gaussian wave packet\n",
    "psi = psi/sqrt((abs(psi)**2).sum())       # normalize it!\n",
    "\n",
    "def GetTransAmpl(kVal):\n",
    "    \"\"\"\n",
    "    compute the transmission amplitude for an incoming wave with\n",
    "    wavenumber 'kVal'. \n",
    "    \"\"\"\n",
    "    E = (hbar*kVal)**2/(2*m)                # Get the energy for this k\n",
    "    kappa = sqrt(2.0*m*(V0*(1+0j)-E))/hbar  # Get the corresponding kappa\n",
    "    \n",
    "    #\n",
    "    # set up the array to handle the boundary conditions for the \n",
    "    # wavefunction and its derivatives at the square barrier\n",
    "    # boundaries (-a, +a).\n",
    "    #\n",
    "    \n",
    "    M = array(\n",
    "    [[-exp(1j*kVal*a), exp(-kappa*a), exp(kappa*a), 0.0],\n",
    "     [1j*kVal*exp(1j*kVal*a), kappa*exp(-kappa*a), -kappa*exp(kappa*a), 0.0],\n",
    "     [0.0, exp(kappa*a), exp(-kappa*a), -exp(1j*kVal*a)],\n",
    "     [0.0, kappa*exp(kappa*a), -kappa*exp(-kappa*a), -1j*kVal*exp(1j*kVal*a)]\n",
    "     ])\n",
    "     \n",
    "    B = array(\n",
    "    [[exp(-1j*kVal*a)],\n",
    "     [1j*kVal*exp(-1j*kVal*a)],\n",
    "     [0.0],\n",
    "     [0.0],\n",
    "     ])\n",
    "\n",
    "    return (asmatrix(inv(M))*B)[-1,0]\n",
    "\n",
    "\n",
    "\n",
    "#\n",
    "# Compute the weighted average of the transmission probability\n",
    "# for each k in the fourier transform weighted by the probability\n",
    "# of that \"k\" being measured in the incoming wave packet.\n",
    "#\n",
    "\n",
    "sum=0.0\n",
    "wt=0.0\n",
    "phi = fft.fft(psi)\n",
    "\n",
    "\n",
    "for i in range(NA2):\n",
    "    trans = abs(GetTransAmpl(k[i]))**2\n",
    "    phiSQ = abs(phi[i])**2\n",
    "    sum += phiSQ*trans\n",
    "    wt += phiSQ\n",
    "\n",
    "print(\"Theoretical Transmission Probability: T=\", sum/wt)\n",
    "\n",
    "#\n",
    "# set up potential.\n",
    "#\n",
    "\n",
    "V = zeros(len(psi),double)\n",
    "beg=NA2 - (int(round(NA*a/b)))\n",
    "end=NA2 + (int(round(NA*a/b)))\n",
    "V[beg:end] =V0*ones(end-beg,double)\n",
    "\n",
    "#\n",
    "# Set up the 3D representation of the barrier\n",
    "#\n",
    "\n",
    "barrier = cylinder(pos=vec(x[beg],0,0), axis=vec(x[end]-x[beg],0,0), color=color.blue, opacity=0.4, radius=3.0)\n",
    "\n",
    "#\n",
    "# set up the arrows\n",
    "#\n",
    "\n",
    "alist = []\n",
    "for i in range(NA):\n",
    "    alist.append(arrow(pos=vec(x[i],0,0), axis=vec(0,1,0), color=color.red))\n",
    "    SetArrowFromCN(arrowScale*psi[i],alist[i])\n",
    "    \n",
    "maxT=0.0\n",
    "while True:\n",
    "    rate(1.0/dt)\n",
    "    #\n",
    "    # Here's where you put in the code to use the FFT/IFFT\n",
    "    # to propagate the state forward in time and graph\n",
    "    # the probability of finding the particle on the \n",
    "    # left or right of the potential barrier.\n",
    "    #\n",
    "    \n",
    "    phi=fft.fft(psi)\n",
    "    psi=fft.ifft(exp(-1j*(omega)*dt)*phi)\n",
    "    psi=psi*exp(V*dt*-1j)\n",
    "    i = 0\n",
    "    while i< NA:\n",
    "        SetArrowFromCN(arrowScale*psi[i], alist[i])\n",
    "        i += 1\n",
    "    \n",
    "    y1 = (abs(psi[NA2:])**2).sum()\n",
    "    y2 = (abs(psi[:NA2])**2).sum()\n",
    "    gL.plot(t,y2)\n",
    "    gR.plot(t,y1)\n",
    "    \n",
    "    t+=dt\n",
    "    \n",
    "    pass"
   ]
  },
  {
   "cell_type": "markdown",
   "metadata": {},
   "source": [
    "1) If you increase the barrier height from 10 units to 100 units you will find that you need to reduce the time step to maintain reasonable results. why?\n",
    "\n",
    "  ####  It decreases the amplitude of passing through the barrier.\n",
    "\n",
    "2) Why does the proprability graph display nonsense after about 3.6 time units with the initial conditions provided in the starter program?\n",
    "\n",
    "\n",
    "#### It oscillates between the left and right of the barrier and the probability remain the same in every case.\n",
    "\n",
    "3) How could you modify the program so that it would compute reasonable probabilities for later times? Which initial conditions would you need to modify in the program to make that work?\n",
    "\n",
    " #### Run the program with a paricle that has a smaller momentum."
   ]
  },
  {
   "cell_type": "code",
   "execution_count": null,
   "metadata": {},
   "outputs": [],
   "source": []
  }
 ],
 "metadata": {
  "kernelspec": {
   "display_name": "Python 3",
   "language": "python",
   "name": "python3"
  },
  "language_info": {
   "codemirror_mode": {
    "name": "ipython",
    "version": 3
   },
   "file_extension": ".py",
   "mimetype": "text/x-python",
   "name": "python",
   "nbconvert_exporter": "python",
   "pygments_lexer": "ipython3",
   "version": "3.7.1"
  }
 },
 "nbformat": 4,
 "nbformat_minor": 2
}
