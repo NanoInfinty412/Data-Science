{
 "cells": [
  {
   "cell_type": "markdown",
   "metadata": {},
   "source": [
    "### Baudouin M. RAMAZANI"
   ]
  },
  {
   "cell_type": "markdown",
   "metadata": {},
   "source": [
    "## Physics 465: Computing Project 5\n",
    "#### Free Particles and the Fourier Transform\n",
    "\n",
    "This week’s project is about following the behavior of a free particle using the Fourier\n",
    "Transform as a tool to change to the k (or momentum) basis, evolve the time, then\n",
    "convert back to to the position basis to determine the new wavefunction. This requires\n",
    "the use of a new tool in python: The Fast Fourier Transform (FFT). The FFT is very\n",
    "closely related to the idea of a Fourier Transform (FT) described in your book."
   ]
  },
  {
   "cell_type": "code",
   "execution_count": null,
   "metadata": {},
   "outputs": [],
   "source": [
    "from vpython import *\n",
    "from numpy import *\n",
    "from vpython import rate\n",
    "def SetArrowFromCN( cn, a):\n",
    "    \"\"\"\n",
    "    SetArrowWithCN takes a complex number  cn  and an arrow object  a .\n",
    "    It sets the  y  and  z  components of the arrow s axis to the real \n",
    "    and imaginary parts of the given complex number. \n",
    "    \n",
    "    Just like Computing Project 1, except y and z for real/imag.\n",
    "    \"\"\"\n",
    "    a.axis.y = cn.real\n",
    "    a.axis.z = cn.imag\n",
    "    a.axis.x = 0.0"
   ]
  },
  {
   "cell_type": "code",
   "execution_count": null,
   "metadata": {},
   "outputs": [],
   "source": [
    "gr = gcurve(color=color.black)\n",
    "gd = graph(xtitle=\"t\", ytitle=\"<x>\", width=600, height=300)\n",
    "\n",
    "scene.background=color.white\n",
    "\n",
    "\n",
    "hbar=1.0                       # use units where hbar = 1\n",
    "m=1.0                          # and m=1.0\n",
    "NA=500                         # how many arrows?\n",
    "a=30.0                         # range of x is -a/2 to a/2\n",
    "\n",
    "x = linspace(-a/2, a/2, NA)    # NA locations from -a/2 to a/2\n",
    "n = arange(NA)                 # n = array([0,1,2,3,.... N-1])\n",
    "n = piecewise(n, [n<NA/2, n>=NA/2], [lambda n:n, lambda n:n - NA])\n",
    "k = 2*n*pi/a\n",
    "Energy = (hbar*k)**2/(2.0*m)   # get the kinetic energy\n",
    "omega = Energy/hbar            # get the frequency\n",
    "\n",
    "t = 0.0\n",
    "dt = 0.01\n",
    "kMin = 2*pi/a\n",
    "k0 = 20*kMin\n",
    "sigma = a/15.0\n",
    "arrowScale = sqrt(NA*a*sigma)/10.0\n",
    "\n",
    "psi=exp(1j*k0*x - ((x+1*a/4)/sigma)**2)   # gaussian wave packet\n",
    "psi = psi/sqrt((abs(psi)**2).sum())       # normalize\n",
    "phi0 = fft.fft(psi)                       # fft at t=0\n",
    "\n",
    "def doStep(plotSigma=False):\n",
    "    \"\"\"\n",
    "    For the current value of \"t\" compute the wavefunction.\n",
    "    \n",
    "    Fill in the code here to complete the solution\n",
    "    \"\"\"\n",
    "    phi = phi0*exp(omega*t*-1j)\n",
    "    psi =  fft.ifft(phi)\n",
    "    for i in range (NA):\n",
    "        SetArrowFromCN(arrowScale*psi[i],alist[i])  \n",
    "    pTot = (abs(psi)**2).sum()   \n",
    "    psi /= sqrt(pTot)\n",
    "    xexp = (x*abs(psi)**2).sum() \n",
    "    msquare = ((x**2)*abs(psi)**2).sum()\n",
    "    sig = sqrt(msquare - (xexp**2)) \n",
    "    #\n",
    "    # compute the new psi, update the arrows and from psi compute xexp and sig\n",
    "    #\n",
    "    \n",
    "    if plotSigma:\n",
    "        gr.plot(pos=(t,sig))\n",
    "    else:\n",
    "        gr.plot(pos=(t,xexp))\n",
    "    "
   ]
  },
  {
   "cell_type": "code",
   "execution_count": null,
   "metadata": {},
   "outputs": [],
   "source": [
    "#\n",
    "# build arrows for display, initialize to current \"psi\" function.\n",
    "#\n",
    "\n",
    "canvas(width=800, height=300)\n",
    "\n",
    "alist = []\n",
    "for i in range(NA):\n",
    "    alist.append(arrow(pos=vec(x[i],0,0), color=color.red))\n",
    "    SetArrowFromCN(arrowScale*psi[i],alist[i])\n",
    "    \n",
    "rate (40)"
   ]
  },
  {
   "cell_type": "code",
   "execution_count": null,
   "metadata": {},
   "outputs": [],
   "source": [
    "#\n",
    "# Actually run the time-loop, interrupt the kernel to stop.\n",
    "#\n",
    "\n",
    "while True:\n",
    "    rate(1.0/dt)\n",
    "    doStep()\n",
    "    t += dt"
   ]
  },
  {
   "cell_type": "markdown",
   "metadata": {},
   "source": [
    "#### 2| graph of the\n",
    "\n",
    "#### Expectation Value Graph\n",
    "![](x.png)\n",
    "#### $\\sigma$ Graph\n",
    "![](sig.jpg)\n",
    "\n",
    "Questions\n",
    "1) If you allow the program continue to run past the point shown in Fig. 3 what happens\n",
    "to the expectation value of position vs. time? Does this seem like a reasonable result\n",
    "for a free particle? What’s happening?.\n",
    "### Yes! The particle moves in waves packet! \n",
    "![exp2](./q1a.png)\n",
    "2) In problem 2.22 you will find the behavior of the gaussian envelope of a free particle\n",
    "wave packet over time. Does the graph of σx vs time appear to be reasonable given the\n",
    "result of problem 2.22. Justify your answer with a numerical comparison.\n",
    "#### $\\sigma_x$ = ${\\frac{1}{2\\omega}}$ High uncertainties in position implies low frequencies\n",
    "\n",
    "![exp2](./q2__.png)\n"
   ]
  },
  {
   "cell_type": "code",
   "execution_count": null,
   "metadata": {},
   "outputs": [],
   "source": []
  },
  {
   "cell_type": "code",
   "execution_count": null,
   "metadata": {},
   "outputs": [],
   "source": []
  }
 ],
 "metadata": {
  "kernelspec": {
   "display_name": "Python 3",
   "language": "python",
   "name": "python3"
  },
  "language_info": {
   "codemirror_mode": {
    "name": "ipython",
    "version": 3
   },
   "file_extension": ".py",
   "mimetype": "text/x-python",
   "name": "python",
   "nbconvert_exporter": "python",
   "pygments_lexer": "ipython3",
   "version": "3.7.1"
  }
 },
 "nbformat": 4,
 "nbformat_minor": 2
}
