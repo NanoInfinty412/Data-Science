{
 "cells": [
  {
   "cell_type": "markdown",
   "metadata": {},
   "source": [
    "\\### Baudouin M. Ramazani\n",
    "### Quantum Physics - Project III\n",
    "### Prof: Dr. Steve Spicklemire"
   ]
  },
  {
   "cell_type": "markdown",
   "metadata": {},
   "source": [
    "\n",
    "### Probabilities over time for the Infinite Square Well\n",
    "\n",
    "### Computing Probabilities in time for the Infinite Square Well\n",
    "\n",
    "\n",
    "This project capitalizes on the first two projects by introducing a “real” system for which\n",
    "we can find exact solutions to the Schr¨odinger equation and simulate the behavior of\n",
    "the system over time. Two beneficial side effects of completing this project are that\n",
    "you’ll learn how to make real time graphs in vpython and you’ll learn some tricks for\n",
    "computing probabilities numerically with discretized (sampled) wave functions.\n",
    "The Problem\n",
    "Problem 2.8 (page 40, Griffiths, 2nd ed.) reads: A particle of mass m in the infinite\n",
    "square well (of width a) starts out in the left half of the well, and is (at t = 0) equally\n",
    "likely to be found at any point in that region\n"
   ]
  },
  {
   "cell_type": "code",
   "execution_count": 11,
   "metadata": {},
   "outputs": [
    {
     "data": {
      "text/html": [
       "<div id=\"glowscript\" class=\"glowscript\"></div>"
      ],
      "text/plain": [
       "<IPython.core.display.HTML object>"
      ]
     },
     "metadata": {},
     "output_type": "display_data"
    },
    {
     "data": {
      "application/javascript": [
       "if (typeof Jupyter !== \"undefined\") { window.__context = { glowscript_container: $(\"#glowscript\").removeAttr(\"id\")};}else{ element.textContent = ' ';}"
      ],
      "text/plain": [
       "<IPython.core.display.Javascript object>"
      ]
     },
     "metadata": {},
     "output_type": "display_data"
    },
    {
     "name": "stdout",
     "output_type": "stream",
     "text": [
      " => P(x<a/2):  0.9965601990196631\n",
      " => P(x>a/2):  0.003439800980336976\n",
      "\n",
      "\n",
      " \t => P(x>a/2) +  P(x<a/2) =  1.0\n"
     ]
    }
   ],
   "source": [
    "from vpython import *     \n",
    "from numpy import *       \n",
    "from vpython import rate      \n",
    "canvas()\n",
    "\n",
    "# SET POSITION\n",
    "def SetArrowFromCN( cn, a):\n",
    "    \"\"\"\n",
    "    SetArrowWithCN takes a complex number  cn  and an arrow object  a .\n",
    "    It sets the  y  and  z  components of the arrow s axis to the real \n",
    "    and imaginary parts of the given complex number. \n",
    "    \n",
    "    Just like Computing Project 1, except y and z for real/imag.\n",
    "    \"\"\"\n",
    "    a.axis.y = cn.real\n",
    "    a.axis.z = cn.imag\n",
    "    a.axis.x = 0.0\n",
    "\n",
    "def result(wavefunction):   \n",
    "    \n",
    "    P_Left = (abs(wavefunction[:int(arrows/2)])**2).sum()\n",
    "    P_Right = (abs(wavefunction[int(arrows/2):])**2).sum()\n",
    "    print (\" => P(x<a/2): \", P_Left)\n",
    "    print (\" => P(x>a/2): \", P_Right)\n",
    "    print (\"\\n\\n \\t => P(x>a/2) +  P(x<a/2) = \", P_Left + P_Right)\n",
    "def graph_wavefunction(wavefunc, t):\n",
    "    wavefunc_update = zeros(len(x),complex)\n",
    "    # Time dependent wave functiom \n",
    "    for i in j:\n",
    "        wavefunc_update += ((2.0/(j*pi))*(1.0-cos(j*pi/2.0)))[i-1]*sqrt(2.0/L)*sin(i*pi*x/L)*exp(-1j*((j**2)*1/hbar)[i-1]*t)\n",
    "    #Update arrows\n",
    "    for i in range(arrows):\n",
    "        SetArrowFromCN(wavefunc_update[i], arrow_list[i])  \n",
    "    wavefunc_update /= sqrt((abs(wavefunc_update)**2).sum())\n",
    "    P_left = (abs(wavefunc_update[:int(arrows/2)])**2).sum()\n",
    "    P_left = (abs(wavefunc_update[:int(arrows/2)])**2).sum()\n",
    "    g_px.plot(pos=(t, P_left))\n",
    "    g_exp.plot(pos=(t, (x*abs(wavefunc_update)**2).sum()))\n",
    "\n",
    "    y1 = sqrt(((x**2)*abs(wavefunc_update)**2).sum() - ((x*abs(wavefunc_update)**2).sum())**2)\n",
    "    y2 = (x*abs(wavefunc_update)**2).sum() - y1\n",
    "    y1 +=   (x*abs(wavefunc_update)**2).sum()\n",
    "    #y2 = ((x*abs(wavefunc_update)**2).sum()) - sqrt((((x**2)*abs(wavefunc_update)**2).sum())-(x*abs(wavefunc_update)**2).sum())\n",
    "    gsig_p.plot(pos=(t, y1))\n",
    "    gsig_n.plot(pos=(t, y2))\n",
    "\n",
    "    \n",
    "##Variables\n",
    "N = 1000\n",
    "E1=1.0                        #Energy level 1\n",
    "hbar=1.0 \n",
    "fourier_c= 20          #fourier coefficients\n",
    "arrows = 40                          #Arrows\n",
    "L=1.0                          # range of x is 1 unit\n",
    "x = linspace(0, L, arrows)         #Create x-axis inputs                     \n",
    "arrow_list = []\n",
    "j = arange(1,fourier_c+1)\n",
    "wavefunc = zeros(len(x),complex)\n",
    "p_x = []\n",
    "t = 0\n",
    "dt = 2*pi/N\n",
    "\n",
    "\n",
    "graph()\n",
    "g_px = gcurve(color=color.magenta)\n",
    "graph()\n",
    "gsig_p = gcurve(color=color.green)\n",
    "g_exp = gcurve(color=color.black)\n",
    "gsig_n = gcurve(color=color.green)\n",
    "\n",
    "for i in j:\n",
    "    wavefunc += ((2.0/(j*pi))*(1.0-cos(j*pi/2.0)))[i-1]*sqrt(2.0/L)*sin(i*pi*x/L)\n",
    "\n",
    "for i in range(arrows):\n",
    "    arrow_list.append(arrow(pos=vec(6*(x[i]-(L/2.0)),0,0), shaftwidth=4*L/arrows, color=color.white))\n",
    "    SetArrowFromCN(wavefunc[i],arrow_list[i])\n",
    "    \n",
    "wavefunc /= sqrt((abs(wavefunc)**2).sum()) # normalize\n",
    "result(wavefunc)\n",
    "\n",
    "t = 0.0\n",
    "dt = 2*pi/1000.0\n",
    "while (t<2*pi):\n",
    "    rate(15)\n",
    "    graph_wavefunction(wavefunc, t)\n",
    "    t+=dt"
   ]
  },
  {
   "cell_type": "markdown",
   "metadata": {},
   "source": [
    "### Answers\n",
    "\n",
    "Please answer these questions at the end of your report.\n",
    "\n",
    "##### 1) Explain how it is that the probability of being on the left half of the square well\n",
    "returns to 1 every time the ground state component of the wavefunction completes a full cycle.\n",
    "\n",
    "  The energy levels go back to their initial position. Higher energy levels are moving 4,9,25,36, etc. times faster than n1 for n=2, n=3, n=4, n=5, n=6, etc.respectively. Upon completion of each turn for n =1, the higher levels also meet at the original location. It's the only time when all n's meet at the original location.\n",
    "  \n",
    "##### 2) What happens when the ground state wavefunction completes half a cycle? Explain why this occurs.\n",
    "\n",
    "The probability of being on the left side approaches zero simply because higher energies are in destructive superposition on the left with n=1 wavefunction (flipped). However, the other side have energies whose wavefunctions are in constructive superposition. \n",
    "##### 3) Are there other initial wavefunctions you could choose that would also start the particle out on the left half of the well? Would the results be different from what you found using the initial wavefunction you used?\n",
    "\n",
    "Yes, there exists such wave functions. On top of that, the model of motion would look the same"
   ]
  },
  {
   "cell_type": "code",
   "execution_count": null,
   "metadata": {},
   "outputs": [],
   "source": []
  }
 ],
 "metadata": {
  "kernelspec": {
   "display_name": "Python 3",
   "language": "python",
   "name": "python3"
  },
  "language_info": {
   "codemirror_mode": {
    "name": "ipython",
    "version": 3
   },
   "file_extension": ".py",
   "mimetype": "text/x-python",
   "name": "python",
   "nbconvert_exporter": "python",
   "pygments_lexer": "ipython3",
   "version": "3.7.1"
  }
 },
 "nbformat": 4,
 "nbformat_minor": 2
}
