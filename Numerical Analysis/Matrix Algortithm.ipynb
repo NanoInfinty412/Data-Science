{
 "cells": [
  {
   "cell_type": "markdown",
   "metadata": {},
   "source": [
    "Write a program to solve an diagonally dominated tridiagonal system Ax = b,where A is tridiagonal using the algorithm in section 2.3.Input: four one-dimensional arrays a,d,c,bOutput: the solution array x and residual r=Ax-b.Try on three examples of your choice for a,b,c,d with dimensions of A being 5x5, 10x10, 20x20.\n",
    "\n",
    "in project 3, you need to compute the residual of Ax=b.\n",
    "\n",
    "The residual is defined as r=Ax-b. \n",
    "\n",
    " \n",
    "\n",
    "r=0 if x is the exact soln.\n",
    "\n",
    "in general, r is very very small if x is an good approximation."
   ]
  },
  {
   "cell_type": "code",
   "execution_count": 47,
   "metadata": {},
   "outputs": [],
   "source": [
    "import numpy as np\n",
    "\n",
    "# Solve the problem using thomas algorithm \n",
    "def Thomas(a, b, c, d):\n",
    "    a_new = a\n",
    "    b_new = b\n",
    "    c_new = c\n",
    "    d_new = d\n",
    "    #an, bn, cn, dn = map(np.array, (a, b, c, d)) # copy arrays\n",
    "    for i in range(1, len(d)):\n",
    "        a1 = a_new[i-1]/b_new[i-1]\n",
    "        b_new[i] = b_new[i] - a1*c_new[i-1] \n",
    "        d_new[i] = d_new[i] - a1*d_new[i-1]\n",
    "    result = b_new\n",
    "    result[-1] = d_new[-1]/b_new[-1]\n",
    "\n",
    "    for j in range(len(d)-2, -1, -1):\n",
    "        result[j] = (d_new[j]-c_new[j]*result[j+1])/b_new[j]\n",
    "    \n",
    "    return result\n"
   ]
  },
  {
   "cell_type": "code",
   "execution_count": 154,
   "metadata": {},
   "outputs": [
    {
     "name": "stdout",
     "output_type": "stream",
     "text": [
      "\n",
      "Matrix 5x5\n",
      "============\n",
      "\n",
      "X =  [0.1  0.16 0.18 0.16 0.1 ]\n",
      "\n",
      "Residual = [-0.06 -0.12 -0.14 -0.12 -0.06]\n",
      "\n",
      "Matrix 10x10\n",
      "==============\n",
      "\n",
      "X =  [ 0.00434783 -0.00782609 -0.01826087 -0.01130435  0.0026087   0.0026087\n",
      " -0.01130435 -0.01826087 -0.00782609  0.00434783]\n",
      "\n",
      "Residual = [0.0026087  0.05130435 0.09304348 0.06521739 0.00956522 0.00956522\n",
      " 0.06521739 0.09304348 0.05130435 0.0026087 ]\n",
      "\n",
      "Matrix 15x15\n",
      "==============\n",
      "\n",
      "X =  [-0.07030263 -0.04676754  0.03138011  0.03389425 -0.04341536 -0.07169937\n",
      " -0.00381776  0.04709345 -0.00381776 -0.07169937 -0.04341536  0.03389425\n",
      "  0.03138011 -0.04676754 -0.07030263]\n",
      "\n",
      "Residual = [0.14030263 0.11676754 0.03861989 0.03610575 0.11341536 0.14169937\n",
      " 0.07381776 0.02290655 0.07381776 0.14169937 0.11341536 0.03610575\n",
      " 0.03861989 0.11676754 0.14030263]\n"
     ]
    }
   ],
   "source": [
    "#GENERATE 15x15 array\n",
    "Ar1 = np.array([[0]*15]*15,dtype = float)\n",
    "Ar1[0][0],Ar1[0][1] = -3,-3\n",
    "\n",
    "for i in range(1,14):\n",
    "    for j in range(i-1,i+2):\n",
    "        Ar1[i][j] = -3\n",
    "Ar1[14][13],Ar1[14][14] = -3,-3\n",
    "for i in range(15):\n",
    "    Ar1[i][i] = 1\n",
    "    \n",
    "#GENERATE 10x10 array\n",
    "Ar2 = np.array([[0]*10]*10,dtype = float)\n",
    "Ar2[0][0],Ar2[0][1] = -2,-2\n",
    "\n",
    "for i in range(1,9):\n",
    "    for j in range(i-1,i+2):\n",
    "        Ar2[i][j] = -2\n",
    "Ar2[9][8],Ar2[9][9] = -2,-2\n",
    "for i in range(10):\n",
    "    Ar1[i][i] = 1\n",
    "\n",
    "# 5x5 Matrix \n",
    "Ar3 = np.array([[2,-1,0,0,0],[-1,2,-1,0,0],[-1,2,-1,0,0],[0,-1,2,-1,0],[0,0,0,-1,2]],dtype = float)\n",
    "\n",
    "a1 = np.array([-3 for i in range (14)],dtype = float) \n",
    "b1 = np.array([1 for i in range (15)],dtype = float)\n",
    "c1 = np.array([-3 for i in range (14)],dtype = float)\n",
    "d1 = np.array([0.07 for i in range (15)],dtype = float)\n",
    "\n",
    "a2 = np.array([-2 for i in range (9)],dtype = float)\n",
    "b2 = np.array([1 for i in range (10)],dtype = float)\n",
    "c2 = np.array([-2 for i in range (9)],dtype = float)\n",
    "d2 = np.array([0.02 for i in range (10)],dtype = float)\n",
    "\n",
    "a3 = np.array([-1,-1,-1,-1],dtype = float)\n",
    "b3 = np.array([2,2,2,2,2],dtype = float)\n",
    "c3 = np.array([-1,-1,-1,-1],dtype = float)\n",
    "d3 = np.array([0.04,0.04,0.04,0.04,0.04],dtype = float)\n",
    "\n",
    "\n",
    "\n",
    "print('\\nMatrix 5x5')\n",
    "print('============')\n",
    "result3 = Thomas(a3, b3, c3, d3)\n",
    "residual3 = np.subtract(np.matmul(Ar3,result3),b3)\n",
    "print('\\nX = ',result3)\n",
    "print('\\nResidual =',residual3)\n",
    "\n",
    "\n",
    "print('\\nMatrix 10x10')\n",
    "print('==============')\n",
    "result2 = Thomas(a2, b2, c2, d2)\n",
    "residual2 = np.subtract(np.matmul(Ar2,result2),b2)\n",
    "print('\\nX = ',result2)\n",
    "print('\\nResidual =',residual2)\n",
    "\n",
    "print('\\nMatrix 15x15')\n",
    "print('==============')\n",
    "result1 = Thomas(a1, b1, c1, d1)\n",
    "residual1 = np.subtract(np.matmul(Ar1,result1),b1)\n",
    "print('\\nX = ',result1)\n",
    "print('\\nResidual =',residual1)\n"
   ]
  },
  {
   "cell_type": "code",
   "execution_count": 170,
   "metadata": {},
   "outputs": [
    {
     "name": "stdout",
     "output_type": "stream",
     "text": [
      "[[ 2. -1.  0.  0.  0.]\n",
      " [-1.  2. -1.  0.  0.]\n",
      " [-1.  2. -1.  0.  0.]\n",
      " [ 0. -1.  2. -1.  0.]\n",
      " [ 0.  0.  0. -1.  2.]] \n",
      "\n",
      " [[-2. -2.  0.  0.  0.  0.  0.  0.  0.  0.]\n",
      " [-2. -2. -2.  0.  0.  0.  0.  0.  0.  0.]\n",
      " [ 0. -2. -2. -2.  0.  0.  0.  0.  0.  0.]\n",
      " [ 0.  0. -2. -2. -2.  0.  0.  0.  0.  0.]\n",
      " [ 0.  0.  0. -2. -2. -2.  0.  0.  0.  0.]\n",
      " [ 0.  0.  0.  0. -2. -2. -2.  0.  0.  0.]\n",
      " [ 0.  0.  0.  0.  0. -2. -2. -2.  0.  0.]\n",
      " [ 0.  0.  0.  0.  0.  0. -2. -2. -2.  0.]\n",
      " [ 0.  0.  0.  0.  0.  0.  0. -2. -2. -2.]\n",
      " [ 0.  0.  0.  0.  0.  0.  0.  0. -2. -2.]] \n",
      "\n",
      " [[ 1. -3.  0.  0.  0.  0.  0.  0.  0.  0.  0.  0.  0.  0.  0.]\n",
      " [-3.  1. -3.  0.  0.  0.  0.  0.  0.  0.  0.  0.  0.  0.  0.]\n",
      " [ 0. -3.  1. -3.  0.  0.  0.  0.  0.  0.  0.  0.  0.  0.  0.]\n",
      " [ 0.  0. -3.  1. -3.  0.  0.  0.  0.  0.  0.  0.  0.  0.  0.]\n",
      " [ 0.  0.  0. -3.  1. -3.  0.  0.  0.  0.  0.  0.  0.  0.  0.]\n",
      " [ 0.  0.  0.  0. -3.  1. -3.  0.  0.  0.  0.  0.  0.  0.  0.]\n",
      " [ 0.  0.  0.  0.  0. -3.  1. -3.  0.  0.  0.  0.  0.  0.  0.]\n",
      " [ 0.  0.  0.  0.  0.  0. -3.  1. -3.  0.  0.  0.  0.  0.  0.]\n",
      " [ 0.  0.  0.  0.  0.  0.  0. -3.  1. -3.  0.  0.  0.  0.  0.]\n",
      " [ 0.  0.  0.  0.  0.  0.  0.  0. -3.  1. -3.  0.  0.  0.  0.]\n",
      " [ 0.  0.  0.  0.  0.  0.  0.  0.  0. -3.  1. -3.  0.  0.  0.]\n",
      " [ 0.  0.  0.  0.  0.  0.  0.  0.  0.  0. -3.  1. -3.  0.  0.]\n",
      " [ 0.  0.  0.  0.  0.  0.  0.  0.  0.  0.  0. -3.  1. -3.  0.]\n",
      " [ 0.  0.  0.  0.  0.  0.  0.  0.  0.  0.  0.  0. -3.  1. -3.]\n",
      " [ 0.  0.  0.  0.  0.  0.  0.  0.  0.  0.  0.  0.  0. -3.  1.]]\n"
     ]
    }
   ],
   "source": [
    "print(Ar3,'\\n\\n',Ar2,'\\n\\n',Ar1)"
   ]
  },
  {
   "cell_type": "code",
   "execution_count": 103,
   "metadata": {},
   "outputs": [],
   "source": [
    "a= [[0]*10]*10"
   ]
  },
  {
   "cell_type": "code",
   "execution_count": 104,
   "metadata": {},
   "outputs": [
    {
     "data": {
      "text/plain": [
       "[[0, 0, 0, 0, 0, 0, 0, 0, 0, 0],\n",
       " [0, 0, 0, 0, 0, 0, 0, 0, 0, 0],\n",
       " [0, 0, 0, 0, 0, 0, 0, 0, 0, 0],\n",
       " [0, 0, 0, 0, 0, 0, 0, 0, 0, 0],\n",
       " [0, 0, 0, 0, 0, 0, 0, 0, 0, 0],\n",
       " [0, 0, 0, 0, 0, 0, 0, 0, 0, 0],\n",
       " [0, 0, 0, 0, 0, 0, 0, 0, 0, 0],\n",
       " [0, 0, 0, 0, 0, 0, 0, 0, 0, 0],\n",
       " [0, 0, 0, 0, 0, 0, 0, 0, 0, 0],\n",
       " [0, 0, 0, 0, 0, 0, 0, 0, 0, 0]]"
      ]
     },
     "execution_count": 104,
     "metadata": {},
     "output_type": "execute_result"
    }
   ],
   "source": [
    "a"
   ]
  },
  {
   "cell_type": "code",
   "execution_count": 124,
   "metadata": {},
   "outputs": [
    {
     "name": "stdout",
     "output_type": "stream",
     "text": [
      "[[-3. -3.  0.  0.  0.  0.  0.  0.  0.  0.  0.  0.  0.  0.  0.]\n",
      " [-3. -3. -3.  0.  0.  0.  0.  0.  0.  0.  0.  0.  0.  0.  0.]\n",
      " [ 0. -3. -3. -3.  0.  0.  0.  0.  0.  0.  0.  0.  0.  0.  0.]\n",
      " [ 0.  0. -3. -3. -3.  0.  0.  0.  0.  0.  0.  0.  0.  0.  0.]\n",
      " [ 0.  0.  0. -3. -3. -3.  0.  0.  0.  0.  0.  0.  0.  0.  0.]\n",
      " [ 0.  0.  0.  0. -3. -3. -3.  0.  0.  0.  0.  0.  0.  0.  0.]\n",
      " [ 0.  0.  0.  0.  0. -3. -3. -3.  0.  0.  0.  0.  0.  0.  0.]\n",
      " [ 0.  0.  0.  0.  0.  0. -3. -3. -3.  0.  0.  0.  0.  0.  0.]\n",
      " [ 0.  0.  0.  0.  0.  0.  0. -3. -3. -3.  0.  0.  0.  0.  0.]\n",
      " [ 0.  0.  0.  0.  0.  0.  0.  0. -3. -3. -3.  0.  0.  0.  0.]\n",
      " [ 0.  0.  0.  0.  0.  0.  0.  0.  0. -3. -3. -3.  0.  0.  0.]\n",
      " [ 0.  0.  0.  0.  0.  0.  0.  0.  0.  0. -3. -3. -3.  0.  0.]\n",
      " [ 0.  0.  0.  0.  0.  0.  0.  0.  0.  0.  0. -3. -3. -3.  0.]\n",
      " [ 0.  0.  0.  0.  0.  0.  0.  0.  0.  0.  0.  0. -3. -3. -3.]\n",
      " [ 0.  0.  0.  0.  0.  0.  0.  0.  0.  0.  0.  0.  0. -3. -3.]]\n"
     ]
    }
   ],
   "source": [
    "Ar1 = np.array([[0]*15]*15,dtype=float)\n",
    "Ar1[0][0],Ar1[0][1] = -3,-3\n",
    "\n",
    "for i in range(1,14):\n",
    "    for j in range(i-1,i+2):\n",
    "        Ar1[i][j] = -3\n",
    "Ar1[14][13],Ar1[14][14] = -3,-3\n",
    "print(Ar1)"
   ]
  },
  {
   "cell_type": "code",
   "execution_count": null,
   "metadata": {},
   "outputs": [],
   "source": [
    "Ar1 = np.array([[0]*15]*15,dtype=float)\n",
    "Ar1[0][0],Ar1[0][1] = -3,-3\n",
    "\n",
    "for i in range(1,14):\n",
    "    for j in range(i-1,i+2):\n",
    "        Ar1[i][j] = -3\n",
    "Ar1[14][13],Ar1[14][14] = -3,-3\n",
    "\n",
    "Ar2 = np.array([[2,1,0,0,0,0,0,0,0,0],[1,3,2,0,0,0,0,0,0,0],[0,1,3,1,0,0,0,0,0,0],[0,0,7,2,6,0,0,0,0,0],[0,0,0,6,2,1,0,0,0,0],[0,0,0,0,3,4,3,0,0,0],[0,0,0,0,0,8,1,5,0,0],[0,0,0,0,0,0,6,2,7,0],[0,0,0,0,0,0,0,5,4,3],[0,0,0,0,0,0,0,0,4,5]],dtype=float)   \n",
    "Ar3 = np.array([[2,-1,0,0,0],[-1,2,-1,0,0],[-1,2,-1,0,0],[0,-1,2,-1,0],[0,0,0,-1,2]],dtype=float)\n",
    "\n",
    "a1 = np.array([-3 for i in range (14)],dtype= float) \n",
    "b1 = np.array([-3 for i in range (15)],dtype = float)\n",
    "c1 = np.array([-3 for i in range (14)],dtype = float)\n",
    "d1 = np.array([1 for i in range (15)],dtype = float)\n",
    "\n",
    "a2 = np.array([1,1,7,6,3,8,6,5,4],dtype = float)\n",
    "b2 = np.array([2,3,3,2,2,4,1,2,4,5],dtype = float)\n",
    "c2 = np.array([1,2,1,6,1,3,5,7,3],dtype = float)\n",
    "d2 = np.array([1,2,6,34,10,1,4,22,25,3],dtype = float)\n",
    "\n",
    "a3 = np.array([-1,-1,-1,-1],dtype = float)\n",
    "b3 = np.array([2,2,2,2,2],dtype = float)\n",
    "c3 = np.array([-1,-1,-1,-1])\n",
    "d3 = np.array([0.04,0.04,0.04,0.04,0.04])\n",
    "\n",
    "\n",
    "\n",
    "print('\\nMatrix 5x5')\n",
    "print('========')\n",
    "result3 = Thomas(a3, b3, c3, d3)\n",
    "residual3 = np.subtract(np.matmul(Ar3,result3),b3)\n",
    "print('Vector x = ',result3)\n",
    "print('Ax-b =',residual3)\n",
    "\n",
    "\n",
    "print('\\nMatrix 10x10')\n",
    "print('========')\n",
    "result2 = Thomas(a2, b2, c2, d2)\n",
    "residual2 = np.subtract(np.matmul(Ar2,result2),b2)\n",
    "print('Vector x = ',result2)\n",
    "print('Ax-b =',residual2)\n",
    "\n",
    "print('\\nMatrix 15x15')\n",
    "print('========')\n",
    "result1 = Thomas(a1, b1, c1, d1)\n",
    "residual1 = np.subtract(np.matmul(Ar1,result1),b1)\n",
    "print('Vector x = ',result1)\n",
    "print('Ax-b =',residual1)\n"
   ]
  }
 ],
 "metadata": {
  "kernelspec": {
   "display_name": "Python 3",
   "language": "python",
   "name": "python3"
  },
  "language_info": {
   "codemirror_mode": {
    "name": "ipython",
    "version": 3
   },
   "file_extension": ".py",
   "mimetype": "text/x-python",
   "name": "python",
   "nbconvert_exporter": "python",
   "pygments_lexer": "ipython3",
   "version": "3.7.1"
  }
 },
 "nbformat": 4,
 "nbformat_minor": 2
}
