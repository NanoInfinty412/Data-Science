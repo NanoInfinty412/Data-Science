{
 "cells": [
  {
   "cell_type": "code",
   "execution_count": 2,
   "metadata": {},
   "outputs": [
    {
     "name": "stdout",
     "output_type": "stream",
     "text": [
      "Populating the interactive namespace from numpy and matplotlib\n"
     ]
    },
    {
     "name": "stderr",
     "output_type": "stream",
     "text": [
      "C:\\ProgramData\\Anaconda3\\lib\\site-packages\\IPython\\core\\magics\\pylab.py:160: UserWarning: pylab import has clobbered these variables: ['f']\n",
      "`%matplotlib` prevents importing * from pylab and numpy\n",
      "  \"\\n`%matplotlib` prevents importing * from pylab and numpy\"\n"
     ]
    }
   ],
   "source": [
    "%pylab inline"
   ]
  },
  {
   "cell_type": "markdown",
   "metadata": {},
   "source": [
    "# Diffraction computation for a square opening\n",
    "\n",
    "This is a sample code to compute the diffraction of waves traversing a square aperture. The only change required to make this work for any shaped opening is to adjust the \"h(x)\" function to produce the correct geometry.\n"
   ]
  },
  {
   "cell_type": "code",
   "execution_count": 6,
   "metadata": {
    "scrolled": true
   },
   "outputs": [
    {
     "name": "stderr",
     "output_type": "stream",
     "text": [
      "No handles with labels found to put in legend.\n"
     ]
    },
    {
     "data": {
      "text/plain": [
       "<matplotlib.legend.Legend at 0x25829631cc0>"
      ]
     },
     "execution_count": 6,
     "metadata": {},
     "output_type": "execute_result"
    },
    {
     "data": {
      "image/png": "[encoded data removed]",
      "text/plain": [
       "<Figure size 432x288 with 1 Axes>"
      ]
     },
     "metadata": {
      "needs_background": "light"
     },
     "output_type": "display_data"
    }
   ],
   "source": [
    "f=4.2e9    # frequency\n",
    "c=299792458    # speed of light\n",
    "L=5     # size of aperture\n",
    "lam=c/f    # wavelength\n",
    "k=2*pi/lam # wave number\n",
    "N=1000      # how many strips to divide the aperture into\n",
    "\n",
    "def h(x,theta):\n",
    "    \"\"\"\n",
    "    return the \"height\" of a narrow strip of aperture at a distace 'x' from the edge.\n",
    "    \"\"\"\n",
    "    #return L/2-(L/2)*cos(theta)  # for a square aperture the \"height\" of a slice is always the same\n",
    "    return 2*sqrt((L/2)**2-(x-(L/2))**2)\n",
    "def E_amp(x, dx, theta):\n",
    "    \"\"\"\n",
    "    Compute the amplitude of a phaser due to a single strip of the aperture\n",
    "    propagating in a direction \"theta\" from the normal\n",
    "    \n",
    "    x:      where is the strip relative to the edge.\n",
    "    theta:  what is the angle of propagation of the wave relative to the normal\n",
    "    dx:     width of the strip\n",
    "    \"\"\"\n",
    "    \n",
    "    return (h(x,theta)*dx/(L*L))*exp(1j*k*x*sin(theta))\n",
    "\n",
    "def E_tot(theta):\n",
    "    \"\"\"\n",
    "    Get the total amplitude at an angle theta\n",
    "    \"\"\"\n",
    "    dx = L/N          # width of a strip\n",
    "    xs = arange(N)*dx # left edge of each strip\n",
    "    xmid = xs+dx/2.0  # midpoint of each strip\n",
    "    \n",
    "    Esum = 0.0\n",
    "    for x in xmid:\n",
    "        Esum += E_amp(x, dx, theta)\n",
    "        \n",
    "    return Esum\n",
    "\n",
    "mags = []\n",
    "thetas = linspace(-pi/40, pi/40, 100)\n",
    "for theta in thetas:\n",
    "    mags.append(abs(E_tot(theta))**2)\n",
    "    \n",
    "plot(thetas, mags, 'b-')\n",
    "title(\"Diffraction of waves through a circular aperture\")\n",
    "xlabel(\"Angle (rad)\")\n",
    "ylabel(\"intensity (relative)\")\n",
    "plt.grid()\n",
    "plt.legend()\n",
    "    \n"
   ]
  },
  {
   "cell_type": "code",
   "execution_count": 1,
   "metadata": {},
   "outputs": [
    {
     "data": {
      "text/plain": [
       "144"
      ]
     },
     "execution_count": 1,
     "metadata": {},
     "output_type": "execute_result"
    }
   ],
   "source": [
    "24*6"
   ]
  },
  {
   "cell_type": "code",
   "execution_count": 5,
   "metadata": {},
   "outputs": [
    {
     "name": "stderr",
     "output_type": "stream",
     "text": [
      "C:\\ProgramData\\Anaconda3\\lib\\site-packages\\matplotlib\\figure.py:98: MatplotlibDeprecationWarning: \n",
      "Adding an axes using the same arguments as a previous axes currently reuses the earlier instance.  In a future version, a new instance will always be created and returned.  Meanwhile, this warning can be suppressed, and the future behavior ensured, by passing a unique label to each axes instance.\n",
      "  \"Adding an axes using the same arguments as a previous axes \"\n"
     ]
    },
    {
     "data": {
      "text/plain": [
       "Text(0.5, 1.0, 'Phasors at theta=0.005')"
      ]
     },
     "execution_count": 5,
     "metadata": {},
     "output_type": "execute_result"
    },
    {
     "data": {
      "image/png": "[encoded data removed]",
      "text/plain": [
       "<Figure size 432x288 with 1 Axes>"
      ]
     },
     "metadata": {
      "needs_background": "light"
     },
     "output_type": "display_data"
    }
   ],
   "source": [
    "\n",
    "def plotArrow(cLast, c, fc='k', ec='k'):\n",
    "    arrow(cLast.real, cLast.imag, c.real, c.imag, head_width=0.01, head_length=0.01, fc=fc, ec=ec)\n",
    "    \n",
    "def PlotSum(theta, N=10):\n",
    "    \"\"\"\n",
    "    Get the total amplitude at an angle theta\n",
    "    \"\"\"\n",
    "    dx = L/N          # width of a strip\n",
    "    xs = arange(N)*dx # left edge of each strip\n",
    "    xmid = xs+dx/2.0  # midpoint of each strip\n",
    "    \n",
    "    Esum = 0.0\n",
    "    for x in xmid:\n",
    "        E_curr=E_amp(x, dx, theta)\n",
    "        plotArrow(Esum,E_curr)\n",
    "        Elast=Esum\n",
    "        Esum += E_curr\n",
    "    return Esum\n",
    "\n",
    "E_total = PlotSum(0.01)\n",
    "plotArrow(0, E_total, fc='r', ec='r')\n",
    "xlim(0,0.8)\n",
    "ylim(0,0.8)\n",
    "axes().set_aspect('equal')\n",
    "title('Phasors at theta=0.005')\n"
   ]
  },
  {
   "cell_type": "code",
   "execution_count": null,
   "metadata": {},
   "outputs": [],
   "source": []
  },
  {
   "cell_type": "code",
   "execution_count": null,
   "metadata": {},
   "outputs": [],
   "source": []
  },
  {
   "cell_type": "code",
   "execution_count": null,
   "metadata": {},
   "outputs": [],
   "source": []
  }
 ],
 "metadata": {
  "kernelspec": {
   "display_name": "Python 3 (ipykernel)",
   "language": "python",
   "name": "python3"
  },
  "language_info": {
   "codemirror_mode": {
    "name": "ipython",
    "version": 3
   },
   "file_extension": ".py",
   "mimetype": "text/x-python",
   "name": "python",
   "nbconvert_exporter": "python",
   "pygments_lexer": "ipython3",
   "version": "3.9.7"
  }
 },
 "nbformat": 4,
 "nbformat_minor": 1
}
