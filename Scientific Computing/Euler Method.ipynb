{
 "cells": [
  {
   "cell_type": "markdown",
   "metadata": {},
   "source": [
    "## Project 1: Euler Method\n",
    "\n",
    "\n",
    "#### Abstract & Description\n",
    "\n",
    "This project is about familiarizing students with the Euler method. This a method used to solve scientific problems. It is merely about predicting the future. It is named after Leonhard Euler, who was a Swiss mathematician. This a numerical method to solve first order differential equations. It is important to mention that the predictions obtained are mere estimations.\n",
    "    \n",
    "For this project, we will use the Euler method to estimate the parameters of the following free fall model :\n",
    "$$bv^2-mg = m(dv/dt)$$"
   ]
  },
  {
   "cell_type": "markdown",
   "metadata": {},
   "source": [
    "#### Algorithm & Discussion\n",
    "\n",
    "The general form of the equation is: \n",
    "$$yf = yn + (dy/dt)*\\Delta t$$\n",
    "\n",
    "yf: The value of the function in the future.\n",
    "\n",
    "yn: The value of the function now.\n",
    "\n",
    "dy/dt: The value of the derivative at any instant t.\n",
    "\n",
    "Delta_t: change in time arbitrarly picked. However, it is important to pick a small change in time in order to maximize the accuracy. The smaller Delta_tis, the more accurate is yf.\n",
    "\n",
    "\n",
    "#### How did Euler end up with this method?\n",
    "\n",
    "    * There is a very simple demonstration that most people use to explain this.\n",
    "    we all know that the slope equals:\n",
    "    \n",
    "$$ (dy/dx) = m = (y2 - y1)/(x2 - x1)$$\n",
    "    \n",
    "    Let's use t as the time constant instead x. The formula of the slope becomes:\n",
    "\n",
    "$$ (dy/dt) = m = (y2 - y1)/(t2 - t1)$$\n",
    "\n",
    "* We also know that:\n",
    "    $$(t2 - t1) = \\Delta t$$ \n",
    "    \n",
    "    Which means:\n",
    "    \n",
    "    $$(y2 - y1) = (dy/dt)*\\Delta t$$\n",
    "    \n",
    "    Which is just:\n",
    "    $$ y2 = y1 + (dy/dt)*\\Delta t$$\n",
    "    \n",
    " #### How do we predict the future after x amount of time?\n",
    " \n",
    " We proceed with iterations. For example, if you want to compute the value of the function after 20s with a picked dt of 0.5s, that means you will have to run the same code 40 times. We always need to know y0, which is the value of the function at time t=0.  This implies that:\n",
    " \n",
    " \n",
    " * yf can be written as y(t+ds)\n",
    " * yn can be written as y(t).\n",
    "\n",
    " "
   ]
  },
  {
   "cell_type": "markdown",
   "metadata": {},
   "source": [
    "#### Implementation/Code & Results\n",
    "\n",
    "A man drops coffee filters from a certain height and collects time and height at various instant. \n",
    "Here is what we obtained:\n"
   ]
  },
  {
   "cell_type": "code",
   "execution_count": 1,
   "metadata": {},
   "outputs": [
    {
     "name": "stdout",
     "output_type": "stream",
     "text": [
      "We have 30 data points.\n"
     ]
    }
   ],
   "source": [
    "data = \"\"\"0.000000000E0\t-2.688162330E0\n",
    "3.336670003E-2\t-4.301059729E0\n",
    "6.673340007E-2\t-5.376324661E0\n",
    "1.001001001E-1\t-6.989222059E0\n",
    "1.334668001E-1\t-1.129028179E1\n",
    "1.668335002E-1\t-1.451607658E1\n",
    "2.002002002E-1\t-2.043003371E1\n",
    "2.335669002E-1\t-2.526872591E1\n",
    "2.669336003E-1\t-3.118268303E1\n",
    "3.003003003E-1\t-3.870953756E1\n",
    "3.336670003E-1\t-4.623639208E1\n",
    "3.670337004E-1\t-5.430087907E1\n",
    "4.004004004E-1\t-6.236536606E1\n",
    "4.337671004E-1\t-7.150511799E1\n",
    "4.671338005E-1\t-8.010723744E1\n",
    "5.005005005E-1\t-8.924698937E1\n",
    "5.338672005E-1\t-9.892437376E1\n",
    "5.672339006E-1\t-1.080641257E2\n",
    "6.006006006E-1\t-1.177415101E2\n",
    "6.339673006E-1\t-1.274188945E2\n",
    "6.673340007E-1\t-1.370962788E2\n",
    "7.007007007E-1\t-1.467736632E2\n",
    "7.340674007E-1\t-1.575263126E2\n",
    "7.674341008E-1\t-1.672036969E2\n",
    "8.008008008E-1\t-1.768810813E2\n",
    "8.341675008E-1\t-1.865584657E2\n",
    "8.675342009E-1\t-1.973111150E2\n",
    "9.009009009E-1\t-2.075261319E2\n",
    "9.342676009E-1\t-2.182787812E2\n",
    "9.676343010E-1\t-2.284937981E2\n",
    "\"\"\".splitlines()  # split this string on the \"newline\" character.\n",
    "\n",
    "print(\"We have\", len(data), \"data points.\")\n",
    "\n"
   ]
  },
  {
   "cell_type": "code",
   "execution_count": 2,
   "metadata": {},
   "outputs": [
    {
     "name": "stdout",
     "output_type": "stream",
     "text": [
      "Using matplotlib backend: Qt5Agg\n",
      "Populating the interactive namespace from numpy and matplotlib\n",
      "tlist= [0.0, 0.03336670003, 0.06673340007, 0.1001001001, 0.1334668001, 0.1668335002, 0.2002002002, 0.2335669002, 0.2669336003, 0.3003003003, 0.3336670003, 0.3670337004, 0.4004004004, 0.4337671004, 0.4671338005, 0.5005005005, 0.5338672005, 0.5672339006, 0.6006006006, 0.6339673006, 0.6673340007, 0.7007007007, 0.7340674007, 0.7674341008, 0.8008008008, 0.8341675008, 0.8675342009, 0.9009009009, 0.9342676009, 0.967634301]\n",
      "ylist= [-0.0268816233, -0.04301059729, -0.05376324661, -0.06989222059, -0.1129028179, -0.1451607658, -0.2043003371, -0.2526872591, -0.3118268303, -0.3870953756, -0.4623639208, -0.5430087907, -0.6236536606, -0.7150511799, -0.8010723744, -0.8924698937, -0.9892437376, -1.0806412570000001, -1.177415101, -1.274188945, -1.370962788, -1.4677366319999998, -1.575263126, -1.672036969, -1.768810813, -1.865584657, -1.97311115, -2.075261319, -2.182787812, -2.284937981]\n"
     ]
    }
   ],
   "source": [
    "%pylab\n",
    "\n",
    "#\n",
    "# Here we'll take the list of strings defined above and break it into actual numbers in reasonable units.\n",
    "#\n",
    "\n",
    "tlist = []\n",
    "ylist = []\n",
    "for s in data:\n",
    "    t,y = s.split()     # break string in two\n",
    "    t=float(t)          # convert time to float\n",
    "    y=float(y)/100.0    # convert distanct (in meters) to float\n",
    "    tlist.append(t)\n",
    "    ylist.append(y)\n",
    "        \n",
    "print (\"tlist=\",tlist)\n",
    "print (\"ylist=\",ylist)"
   ]
  },
  {
   "cell_type": "code",
   "execution_count": 3,
   "metadata": {},
   "outputs": [
    {
     "data": {
      "text/plain": [
       "[<matplotlib.lines.Line2D at 0x279706e39b0>]"
      ]
     },
     "execution_count": 3,
     "metadata": {},
     "output_type": "execute_result"
    },
    {
     "data": {
      "image/png": "[encoded data removed]",
      "text/plain": [
       "<Figure size 432x288 with 1 Axes>"
      ]
     },
     "metadata": {
      "needs_background": "light"
     },
     "output_type": "display_data"
    }
   ],
   "source": [
    "plot(tlist, ylist) # plot the the collected data"
   ]
  },
  {
   "cell_type": "code",
   "execution_count": 4,
   "metadata": {},
   "outputs": [
    {
     "data": {
      "text/plain": [
       "[<matplotlib.lines.Line2D at 0x279709099e8>]"
      ]
     },
     "execution_count": 4,
     "metadata": {},
     "output_type": "execute_result"
    },
    {
     "data": {
      "image/png": "[encoded data removed]",
      "text/plain": [
       "<Figure size 432x288 with 1 Axes>"
      ]
     },
     "metadata": {
      "needs_background": "light"
     },
     "output_type": "display_data"
    }
   ],
   "source": [
    "plot(tlist, ylist) "
   ]
  },
  {
   "cell_type": "code",
   "execution_count": 5,
   "metadata": {},
   "outputs": [
    {
     "data": {
      "text/plain": [
       "[<matplotlib.lines.Line2D at 0x27970977588>]"
      ]
     },
     "execution_count": 5,
     "metadata": {},
     "output_type": "execute_result"
    },
    {
     "data": {
      "image/png": "[encoded data removed]",
      "text/plain": [
       "<Figure size 432x288 with 1 Axes>"
      ]
     },
     "metadata": {
      "needs_background": "light"
     },
     "output_type": "display_data"
    }
   ],
   "source": [
    "vlist = []  # Velocity list (computed velocities from experimental data)\n",
    "tvlist = []  # time list (times for corresponding velocities)\n",
    "for i in range(1,len(tlist)):\n",
    "    dy=ylist[i]-ylist[i-1]\n",
    "    dt=tlist[i]-tlist[i-1]\n",
    "    vlist.append(dy/dt)\n",
    "    tvlist.append((tlist[i]+tlist[i-1])/2.0)\n",
    "    \n",
    "plot(tvlist,vlist,'g.')\n"
   ]
  },
  {
   "cell_type": "code",
   "execution_count": 6,
   "metadata": {},
   "outputs": [
    {
     "data": {
      "text/plain": [
       "[<matplotlib.lines.Line2D at 0x27972552ac8>,\n",
       " <matplotlib.lines.Line2D at 0x27972552c50>]"
      ]
     },
     "execution_count": 6,
     "metadata": {},
     "output_type": "execute_result"
    },
    {
     "data": {
      "image/png": "[encoded data removed]",
      "text/plain": [
       "<Figure size 432x288 with 1 Axes>"
      ]
     },
     "metadata": {
      "needs_background": "light"
     },
     "output_type": "display_data"
    }
   ],
   "source": [
    "m=0.0035  # kg\n",
    "g=9.8     # m/s\n",
    "b=0.001    # total guess, need to improve\n",
    "\n",
    "v=0.0     # start with zero velocity\n",
    "\n",
    "dt = (tlist[-1]-tlist[0])/(len(tlist)-1)  # time per frame in original video\n",
    "t=0.0\n",
    "\n",
    "vclist = [v]\n",
    "tclist = [t]\n",
    "\n",
    "def deriv(v, t):\n",
    "    return b*v**2/m - g\n",
    "\n",
    "for i in range(len(tlist)):\n",
    "    dv = deriv(v,t)*dt\n",
    "    v += dv\n",
    "    t += dt\n",
    "    \n",
    "    vclist.append(v)\n",
    "    tclist.append(t)\n",
    "    \n",
    "title(\"Comparison of experimental and drag model\")\n",
    "xlabel(\"time(s)\")\n",
    "ylabel(\"velocity (m/s)\")\n",
    "plot(tclist, vclist, 'r-',tvlist,vlist,'g.')"
   ]
  },
  {
   "cell_type": "markdown",
   "metadata": {},
   "source": [
    "##### Remark \n",
    "\n",
    "After many iterations, we end up with b = 0.003625 +/- 0.000375. Within this range, we obtain a good fiting curve."
   ]
  },
  {
   "cell_type": "code",
   "execution_count": 19,
   "metadata": {},
   "outputs": [
    {
     "data": {
      "text/plain": [
       "[<matplotlib.lines.Line2D at 0x279739b9860>,\n",
       " <matplotlib.lines.Line2D at 0x279739b99e8>]"
      ]
     },
     "execution_count": 19,
     "metadata": {},
     "output_type": "execute_result"
    },
    {
     "data": {
      "image/png": "[encoded data removed]",
      "text/plain": [
       "<Figure size 432x288 with 1 Axes>"
      ]
     },
     "metadata": {
      "needs_background": "light"
     },
     "output_type": "display_data"
    }
   ],
   "source": [
    "m=0.0035  # kg\n",
    "g=9.8     # m/s\n",
    "b=0.003625    # total guess, need to improve\n",
    "\n",
    "v=0.0     # start with zero velocity\n",
    "\n",
    "dt = (tlist[-1]-tlist[0])/(len(tlist)-1)  # time per frame in original video\n",
    "t=0.0\n",
    "\n",
    "vclist = [v]\n",
    "tclist = [t]\n",
    "\n",
    "def deriv(v, t):\n",
    "    return b*v**2/m - g\n",
    "\n",
    "for i in range(len(tlist)):\n",
    "    dv = deriv(v,t)*dt\n",
    "    v += dv\n",
    "    t += dt\n",
    "    \n",
    "    vclist.append(v)\n",
    "    tclist.append(t)\n",
    "    \n",
    "title(\"Comparison of experimental and drag model\")\n",
    "xlabel(\"time(s)\")\n",
    "ylabel(\"velocity (m/s)\")\n",
    "plot(tclist, vclist, 'r-',tvlist,vlist,'g.')"
   ]
  },
  {
   "cell_type": "markdown",
   "metadata": {},
   "source": [
    "### Conclusion"
   ]
  },
  {
   "cell_type": "markdown",
   "metadata": {},
   "source": [
    "$$bv^2-mg = m(dv/dt)$$\n",
    "The obtained curve changes only if we modify b. This is because all the other values are already fixed or computed by the program. By changing b, the curves tends to fit within the dots, which represent the data collected. We proceeded by simple iterations and found out that when b is between [0.00325,0.00400] The curve looks like the experimental model.\n"
   ]
  }
 ],
 "metadata": {
  "kernelspec": {
   "display_name": "Python 3",
   "language": "python",
   "name": "python3"
  },
  "language_info": {
   "codemirror_mode": {
    "name": "ipython",
    "version": 3
   },
   "file_extension": ".py",
   "mimetype": "text/x-python",
   "name": "python",
   "nbconvert_exporter": "python",
   "pygments_lexer": "ipython3",
   "version": "3.7.1"
  }
 },
 "nbformat": 4,
 "nbformat_minor": 2
}
