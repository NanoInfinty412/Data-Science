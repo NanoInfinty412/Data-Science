{
 "cells": [
  {
   "cell_type": "markdown",
   "metadata": {},
   "source": [
    "## Project 5: The Demon Algorithm \n",
    "\n",
    "### Abstract and Description:\n",
    "There are a number of approaches to complex problems involving large numbers of interactions where the objective is to find the \"average\" behavior of the system over a long period of time. In this project, we will use the Demon Algorithm to investigate the distribution of velocities of nitrogen molecules in a 1D gas and solve for the temperature of the system. To do so, we followed the algorithm described below and ended up with a Temperature of 206 K\n",
    "\n",
    "### Algorithm and Discussion:\n",
    "It's a simple way to simulate the random exchange of energy between components of a system over time. Here's the basic idea:\n",
    "\n",
    "Suppose we have a demon..\n",
    "\n",
    "1 Make a small change to the system.\n",
    "\n",
    "2 Compute $\\Delta E$. If $\\Delta E<0$ give it to the “demon” and accept the change.\n",
    "\n",
    "3 If $\\Delta E>0$ and the demon has that much energy available, accept the change and take the energy from the demon.\n",
    "\n",
    "4 If the demon doesn’t have that much energy, then reject the change.\n",
    "\n",
    "$$ PE(v) = \\frac{mv^2}{2} $$\n",
    "\n",
    "### Implementation/ Code:"
   ]
  },
  {
   "cell_type": "code",
   "execution_count": 1,
   "metadata": {},
   "outputs": [
    {
     "name": "stdout",
     "output_type": "stream",
     "text": [
      "Populating the interactive namespace from numpy and matplotlib\n"
     ]
    }
   ],
   "source": [
    "%pylab inline"
   ]
  },
  {
   "cell_type": "code",
   "execution_count": 2,
   "metadata": {},
   "outputs": [
    {
     "data": {
      "text/plain": [
       "(array([ 986., 1043., 1011., 1041., 1004.,  986.,  966.,  990.,  970.,\n",
       "        1003.]),\n",
       " array([-9.99938879e-01, -7.99948787e-01, -5.99958695e-01, -3.99968602e-01,\n",
       "        -1.99978510e-01,  1.15818961e-05,  2.00001674e-01,  3.99991766e-01,\n",
       "         5.99981858e-01,  7.99971951e-01,  9.99962043e-01]),\n",
       " <a list of 10 Patch objects>)"
      ]
     },
     "execution_count": 2,
     "metadata": {},
     "output_type": "execute_result"
    },
    {
     "data": {
      "image/png": "[encoded data removed]",
      "text/plain": [
       "<Figure size 432x288 with 1 Axes>"
      ]
     },
     "metadata": {
      "needs_background": "light"
     },
     "output_type": "display_data"
    }
   ],
   "source": [
    "m  = 2*(2.33e-26)  # 2*(2.33e-26)/(1.78e-36)\n",
    "g=9.8          # grav field strength\n",
    "kbT=0.025    \n",
    "kb=1.67e-23    # boltzman constant\n",
    "demonE = 0.0   # initial demon energy\n",
    "N=10000        # number of molecules\n",
    "M=400000       # number of iterations\n",
    "v0= 470        # Velocity Scale\n",
    "v_x = (sqrt(2*kbT)/m)   #Speed at time t \n",
    "\n",
    "\n",
    "def setup(N=100,vscale=1.0):\n",
    "    v_x=vscale*(rand(N)-0.5)*2     # put N particles at random heights (y) between 0 and L\n",
    "    return v_x\n",
    "\n",
    "v_xarray = setup(N=10000,vscale=1.0)\n",
    "hist(v_xarray)"
   ]
  },
  {
   "cell_type": "code",
   "execution_count": 3,
   "metadata": {},
   "outputs": [
    {
     "name": "stdout",
     "output_type": "stream",
     "text": [
      "82.9545 percent accepted\n"
     ]
    },
    {
     "data": {
      "image/png": "[encoded data removed]",
      "text/plain": [
       "<Figure size 432x288 with 1 Axes>"
      ]
     },
     "metadata": {
      "needs_background": "light"
     },
     "output_type": "display_data"
    }
   ],
   "source": [
    "def shake(v_x, demonE, delta=0.1):\n",
    "    \"\"\"\n",
    "    Pass in the current demon energy as an argument.\n",
    "    delta is the size of change in y to generate, more or less.\n",
    "    randomly choose a particle, change it's position slightly (around delta)\n",
    "    return the new demon energy and a boolean (was the change accepted?)\n",
    "    \"\"\"\n",
    "    ix = int(rand()*len(v_x))\n",
    "    deltav_x = delta*normal()  \n",
    "    KEi = ((v_x[ix]**2)*m*(1/2))\n",
    "    KEf = (((v_x[ix]+deltav_x)**2)*m*(1/2))\n",
    "    deltaE = KEf - KEi\n",
    "    accept=False\n",
    "    if deltaE < demonE:  \n",
    "        demonE -= deltaE  \n",
    "        v_x[ix] += deltav_x\n",
    "        accept=True\n",
    "    return demonE, accept\n",
    "\n",
    "v_x = setup(N,vscale=v0)\n",
    "acceptCount = 0\n",
    "demonList = []\n",
    "for i in range(M):\n",
    "    demonE,accept = shake(v_x, demonE, delta=150)     \n",
    "    demonList.append(demonE)\n",
    "    if accept:\n",
    "        acceptCount += 1\n",
    "\n",
    "title(\"Distribution of velocity\")\n",
    "xlabel(\"velocity (m/s)\")\n",
    "ylabel(\"number in velocity range\")\n",
    "hist(v_x,bins=40)\n",
    "print(100.0*acceptCount/M, \"percent accepted\")\n"
   ]
  },
  {
   "cell_type": "code",
   "execution_count": 4,
   "metadata": {},
   "outputs": [
    {
     "data": {
      "image/png": "[encoded data removed]",
      "text/plain": [
       "<Figure size 432x288 with 1 Axes>"
      ]
     },
     "metadata": {
      "needs_background": "light"
     },
     "output_type": "display_data"
    }
   ],
   "source": [
    "#\n",
    "# Build a histogram of Demon Energies\n",
    "#\n",
    "\n",
    "title(\"Distribution of Demon Energies\")\n",
    "xlabel(\"Energy Ranges (J)\")\n",
    "ylabel(\"Number in Energy Ranges\")\n",
    "ns, bins, patches = hist(demonList, bins=60)"
   ]
  },
  {
   "cell_type": "markdown",
   "metadata": {},
   "source": [
    "\n",
    "##### Demonic Thermometer\n",
    "We can easily see that the demon acts like an small thermometer. According to the Maxwell-Boltzmann distribution the energy distribution of the demon's energy should go like:\n",
    "\n",
    "$$P(E) = P_0 e^{-E/k_B T}$$\n",
    "Where $P_0$ is the basically the probability of having an energy of zero. (Actually, maybe a better way to think of it is as a normalization constant that's determined by the requirement that the total probability to have any energy is 1.0). The histogram of demon energies tells us the number of times the demon have various values of energy during the calculation. This is proportional to the probability that the demon had various energies. We can fit that probability to an exponential curve (or the log of the probability to a straight line) and from the slope of the line deduce the temperature!\n",
    "\n",
    "To do so, we will use Curve fitting, which is the process of constructing a curve, or mathematical function, that has the best fit to a series of data points, possibly subject to constraints.\n",
    "See below how the code does exactly this."
   ]
  },
  {
   "cell_type": "code",
   "execution_count": 5,
   "metadata": {},
   "outputs": [
    {
     "data": {
      "text/plain": [
       "array([7.8133e+04, 6.2953e+04, 5.1429e+04, 4.1395e+04, 3.2759e+04,\n",
       "       2.5973e+04, 2.0822e+04, 1.7029e+04, 1.3931e+04, 1.0894e+04,\n",
       "       8.9920e+03, 7.0360e+03, 5.6600e+03, 4.6060e+03, 3.6280e+03,\n",
       "       2.8680e+03, 2.3790e+03, 1.8480e+03, 1.5260e+03, 1.2160e+03,\n",
       "       9.9700e+02, 8.3400e+02, 6.3600e+02, 5.1900e+02, 3.4900e+02,\n",
       "       2.6700e+02, 2.3100e+02, 1.8800e+02, 1.4400e+02, 1.1300e+02,\n",
       "       7.7000e+01, 8.3000e+01, 5.5000e+01, 6.4000e+01, 5.3000e+01,\n",
       "       4.7000e+01, 4.5000e+01, 2.9000e+01, 2.2000e+01, 2.4000e+01,\n",
       "       1.1000e+01, 1.9000e+01, 2.1000e+01, 1.8000e+01, 7.0000e+00,\n",
       "       1.4000e+01, 1.1000e+01, 7.0000e+00, 9.0000e+00, 8.0000e+00,\n",
       "       1.0000e+00, 3.0000e+00, 1.0000e+00, 3.0000e+00, 1.0000e+00,\n",
       "       4.0000e+00, 1.0000e+00, 3.0000e+00, 3.0000e+00, 1.0000e+00])"
      ]
     },
     "execution_count": 5,
     "metadata": {},
     "output_type": "execute_result"
    }
   ],
   "source": [
    "ns"
   ]
  },
  {
   "cell_type": "code",
   "execution_count": 5,
   "metadata": {},
   "outputs": [
    {
     "name": "stdout",
     "output_type": "stream",
     "text": [
      "slope= -2.894309398418483e+20 +/- 8.2035176397972e+17\n",
      "intercept= 11.155873630529463 +/- 0.0039811682867279975\n",
      "Temperature= 206.37528835699553 +/- 0.5849420657583955 K\n"
     ]
    },
    {
     "name": "stderr",
     "output_type": "stream",
     "text": [
      "C:\\ProgramData\\Anaconda3\\lib\\site-packages\\ipykernel_launcher.py:10: RuntimeWarning: divide by zero encountered in true_divide\n",
      "  # Remove the CWD from sys.path while we load stuff.\n"
     ]
    },
    {
     "data": {
      "text/plain": [
       "<matplotlib.legend.Legend at 0x21b32770d68>"
      ]
     },
     "execution_count": 5,
     "metadata": {},
     "output_type": "execute_result"
    },
    {
     "data": {
      "image/png": "[encoded data removed]",
      "text/plain": [
       "<Figure size 432x288 with 1 Axes>"
      ]
     },
     "metadata": {
      "needs_background": "light"
     },
     "output_type": "display_data"
    }
   ],
   "source": [
    "\n",
    "from scipy.optimize import curve_fit\n",
    "\n",
    "def fLinear(x, ma, b):\n",
    "    return ma*x + b\n",
    "\n",
    "energies = (bins[:-1]+bins[1:])/2.0  \n",
    "xvals = array(energies)  \n",
    "yvals = log(array(ns)+.1)\n",
    "sig = 1.0/sqrt(array(ns))  \n",
    "\n",
    "m0 = (yvals[-1]-yvals[0])/(xvals[-1]-xvals[0])\n",
    "b0 = yvals[0]-m0*xvals[0]\n",
    "\n",
    "popt, pcov = curve_fit(fLinear, xvals, yvals, p0=(m0, b0), sigma=sig)\n",
    "\n",
    "ma=popt[0]        \n",
    "dm=sqrt(pcov[0,0]) \n",
    "b=popt[1]         \n",
    "db=sqrt(pcov[1,1])\n",
    "\n",
    "eavg = ((0.5*m*v_x**2).sum())/10000\n",
    "Temp=(2 * eavg)/(kb)\n",
    "\n",
    "\n",
    "dT = abs(dm*Temp/ma)\n",
    "print(\"slope=\", ma, \"+/-\", dm )\n",
    "print(\"intercept=\", b, \"+/-\", db)\n",
    "print(\"Temperature=\", Temp, \"+/-\", dT, \"K\")\n",
    "title(\"Demon Energy Distribution\")\n",
    "xlabel(\"Energy (J)\")\n",
    "ylabel(\"log(n) (number of demon visit to energy)\")\n",
    "errorbar(xvals, yvals, sig, fmt='r.')\n",
    "plot(xvals,yvals,'b*',label=\"Demon Energies\")\n",
    "plot(xvals,fLinear(xvals, ma, b),'r-', label=\"Fit\")\n",
    "legend()"
   ]
  },
  {
   "cell_type": "markdown",
   "metadata": {},
   "source": [
    "### Results\n",
    "\n",
    "   Just as expected, the logarithmic function of the data collected follows an almost-linear path and the curve-fitting function straight-line confirms our expectations. From 0J to $1.5x10^-20$ J, the error seems to be very negligible and it starts being considerably visible past that energy. That makes sense when you look at the Energy vs Number of molecules graph above. As it follows an exponential pattern, it decreases rapidly and once a certain point reached, the decreasing process becomes exponentially slow and arrives at zero only at infinity. In our case, that point seems to be near $1.5x10^-20$ J. Past that energy, the number of Nitrogen molecules is not enough to give an accurate estimation. That explains why the data are so jumpy around the straight-line past that energy point. On the other hand, it also means that if we dont' consider the data collected past that energy, the estimation would be very near perfect.\n",
    "\n",
    "Using the covariance matrix given by the curve fitting function, we figured the error by taking the square roots of the diagonal entries of the matrix. The slope is also given by the same function.\n",
    "\n",
    "Having all that allowed us to use physics principles, such as energy conservation to solve for the temperature. \n",
    "\n",
    "The temperature obtained is around $203.5 K$"
   ]
  },
  {
   "cell_type": "code",
   "execution_count": 6,
   "metadata": {},
   "outputs": [
    {
     "ename": "NameError",
     "evalue": "name 'curve_fitting' is not defined",
     "output_type": "error",
     "traceback": [
      "\u001b[1;31m---------------------------------------------------------------------------\u001b[0m",
      "\u001b[1;31mNameError\u001b[0m                                 Traceback (most recent call last)",
      "\u001b[1;32m<ipython-input-6-de320cea4c88>\u001b[0m in \u001b[0;36m<module>\u001b[1;34m\u001b[0m\n\u001b[1;32m----> 1\u001b[1;33m \u001b[0mcurve_fitting\u001b[0m\u001b[1;33m(\u001b[0m\u001b[0mfilter11b\u001b[0m\u001b[1;33m.\u001b[0m\u001b[0miloc\u001b[0m\u001b[1;33m[\u001b[0m\u001b[1;33m:\u001b[0m\u001b[1;33m,\u001b[0m\u001b[1;36m0\u001b[0m\u001b[1;33m]\u001b[0m\u001b[1;33m[\u001b[0m\u001b[1;36m0\u001b[0m\u001b[1;33m:\u001b[0m\u001b[1;36m10\u001b[0m\u001b[1;33m]\u001b[0m\u001b[1;33m,\u001b[0m\u001b[0mfilter11b\u001b[0m\u001b[1;33m[\u001b[0m\u001b[1;34m'Latest: Position (m)'\u001b[0m\u001b[1;33m]\u001b[0m\u001b[1;33m[\u001b[0m\u001b[1;36m0\u001b[0m\u001b[1;33m:\u001b[0m\u001b[1;36m10\u001b[0m\u001b[1;33m]\u001b[0m\u001b[1;33m)\u001b[0m\u001b[1;33m\u001b[0m\u001b[1;33m\u001b[0m\u001b[0m\n\u001b[0m\u001b[0;32m      2\u001b[0m \u001b[1;33m\u001b[0m\u001b[0m\n\u001b[0;32m      3\u001b[0m \u001b[0mcurve_fitting\u001b[0m\u001b[1;33m(\u001b[0m\u001b[0mfilter12a\u001b[0m\u001b[1;33m.\u001b[0m\u001b[0miloc\u001b[0m\u001b[1;33m[\u001b[0m\u001b[1;33m:\u001b[0m\u001b[1;33m,\u001b[0m\u001b[1;36m0\u001b[0m\u001b[1;33m]\u001b[0m\u001b[1;33m[\u001b[0m\u001b[1;36m4\u001b[0m\u001b[1;33m:\u001b[0m\u001b[1;36m10\u001b[0m\u001b[1;33m]\u001b[0m\u001b[1;33m,\u001b[0m\u001b[0mfilter12a\u001b[0m\u001b[1;33m[\u001b[0m\u001b[1;34m'Latest: Position (m)'\u001b[0m\u001b[1;33m]\u001b[0m\u001b[1;33m[\u001b[0m\u001b[1;36m4\u001b[0m\u001b[1;33m:\u001b[0m\u001b[1;36m10\u001b[0m\u001b[1;33m]\u001b[0m\u001b[1;33m)\u001b[0m\u001b[1;33m\u001b[0m\u001b[1;33m\u001b[0m\u001b[0m\n\u001b[0;32m      4\u001b[0m \u001b[1;33m\u001b[0m\u001b[0m\n\u001b[0;32m      5\u001b[0m \u001b[0mcurve_fitting\u001b[0m\u001b[1;33m(\u001b[0m\u001b[0mfilter12b\u001b[0m\u001b[1;33m.\u001b[0m\u001b[0miloc\u001b[0m\u001b[1;33m[\u001b[0m\u001b[1;33m:\u001b[0m\u001b[1;33m,\u001b[0m\u001b[1;36m0\u001b[0m\u001b[1;33m]\u001b[0m\u001b[1;33m[\u001b[0m\u001b[1;36m0\u001b[0m\u001b[1;33m:\u001b[0m\u001b[1;36m6\u001b[0m\u001b[1;33m]\u001b[0m\u001b[1;33m,\u001b[0m\u001b[0mfilter12b\u001b[0m\u001b[1;33m[\u001b[0m\u001b[1;34m'Latest: Position (m)'\u001b[0m\u001b[1;33m]\u001b[0m\u001b[1;33m[\u001b[0m\u001b[1;36m0\u001b[0m\u001b[1;33m:\u001b[0m\u001b[1;36m6\u001b[0m\u001b[1;33m]\u001b[0m\u001b[1;33m)\u001b[0m\u001b[1;33m\u001b[0m\u001b[1;33m\u001b[0m\u001b[0m\n",
      "\u001b[1;31mNameError\u001b[0m: name 'curve_fitting' is not defined"
     ]
    }
   ],
   "source": [
    "curve_fitting(filter11b.iloc[:,0][0:10],filter11b['Latest: Position (m)'][0:10])\n",
    "\n",
    "curve_fitting(filter12a.iloc[:,0][4:10],filter12a['Latest: Position (m)'][4:10])\n",
    "\n",
    "curve_fitting(filter12b.iloc[:,0][0:6],filter12b['Latest: Position (m)'][0:6])\n",
    "\n",
    "curve_fitting(filter13a.iloc[:,0][1:6],filter13a['Latest: Position (m)'][1:6])\n",
    "\n",
    "curve_fitting(filter13b.iloc[:,0][1:9],filter13b['Latest: Position (m)'][1:9])\n",
    "\n",
    "curve_fitting(filter14a.iloc[:,0][2:8],filter14a['Latest: Position (m)'][2:8])\n",
    "\n",
    "curve_fitting(filter14b.iloc[:,0][0:6],filter14b['Latest: Position (m)'][0:6])\n",
    "\n",
    "curve_fitting(filter15a.iloc[:,0][2:10],filter15a['Latest: Position (m)'][2:10])\n",
    "\n",
    "curve_fitting(filter15b.iloc[:,0][2:8],filter15b['Latest: Position (m)'][2:8])\n",
    "\n",
    "curve_fitting(filter16a.iloc[:,0][2:9],filter16a['Latest: Position (m)'][2:9])\n",
    "\n",
    "curve_fitting(filter16b.iloc[:,0][4:11],filter16b['Latest: Position (m)'][4:11])\n",
    "\n",
    "curve_fitting(filter17a.iloc[:,0][1:7],filter17a['Latest: Position (m)'][1:7])\n",
    "\n",
    "curve_fitting(filter17b.iloc[:,0][1:9],filter17b['Latest: Position (m)'][1:9])\n",
    "\n",
    "curve_fitting(filter18a.iloc[:,0][0:10],filter18a['Latest: Position (m)'][0:10])\n",
    "\n",
    "curve_fitting(filter18b.iloc[:,0][0:6],filter18b['Latest: Position (m)'][0:6])\n",
    "\n",
    "curve_fitting(filter19a.iloc[:,0][0:7],filter19a['Latest: Position (m)'][0:7])\n",
    "\n",
    "curve_fitting(filter19b.iloc[:,0][1:7],filter19b['Latest: Position (m)'][1:7])\n",
    "\n",
    "curve_fitting(filter20a.iloc[:,0][0:8],filter20a['Latest: Position (m)'][0:8])\n",
    "\n",
    "curve_fitting(filter20b.iloc[:,0][0:7],filter20b['Latest: Position (m)'][0:7])\n"
   ]
  },
  {
   "cell_type": "markdown",
   "metadata": {},
   "source": [
    "### Conclusion\n",
    "Altogether, the temperature obtained for this system must be correct. Looking at the 83 percent of the accepted Energy by the demon, it would be safe to conclude that our experiment gave good numbers at the end."
   ]
  }
 ],
 "metadata": {
  "kernelspec": {
   "display_name": "Python 3",
   "language": "python",
   "name": "python3"
  },
  "language_info": {
   "codemirror_mode": {
    "name": "ipython",
    "version": 3
   },
   "file_extension": ".py",
   "mimetype": "text/x-python",
   "name": "python",
   "nbconvert_exporter": "python",
   "pygments_lexer": "ipython3",
   "version": "3.7.1"
  }
 },
 "nbformat": 4,
 "nbformat_minor": 2
}
