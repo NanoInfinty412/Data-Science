{
 "cells": [
  {
   "cell_type": "markdown",
   "metadata": {},
   "source": [
    "## Project 2: Heun Method\n",
    "\n",
    "\n",
    "### Abstract & Description\n",
    "\n",
    "###### * Two Learning Goals\n",
    "\n",
    "This project involves two related learning goals 1) Begin to learn a slightly improved method of integrating a differential equation (The Heun Method) and 2) learn how to turn higher order equations into a set of first order coupled equations along with a simple technique to manage the extra complexity.\n",
    "\n",
    "###### * The Heun Method\n",
    "While Euler's Method is quite easy and accurate enough for simple problems it is less successful when applied to more challenging situations. Depending on the nature of the function $f(s,t)$ Euler's Method can easily under or overestimate the change. Getting satisfactory results using the Euler Method can require very small time steps, making the algorithm very slow.\n",
    "\n",
    "Starting at $x_1$ find the slope $f(s,t)$ and extrapolate out to $x_1 + \\Delta x$."
   ]
  },
  {
   "cell_type": "markdown",
   "metadata": {},
   "source": [
    "### Algorithm & Discussion\n",
    "\n",
    "For this project, we will consider a Soccer player on top of a 20m high building. The Soccer player will use all his strength and kick a 0.43 kgs soccer ball very high with an initial velocity of 50 m/s. \n",
    "The goal here is to predict the future or the trajectory of the ball without using any pre-established law of physics for projectile motion and collect some important data such as range, time etc. To do so, we will need to consider the average of two seperate derivatives taken from the same problem at a time t and t+ds.\n",
    "\n",
    "Steps: \n",
    "* Starting at $x_1$ find the slope $f(s,t)$ and extrapolate out to $x_1 + \\Delta x$.\n",
    "* Next.. evaluate the slope at the extrapolated value of s.\n",
    "* Using this slope.. extrapolate again. Note that while the first extrapolation underestimated the change in s, the second overestimated. Heun's method is to use the average of these two estimates.\n",
    "\n",
    "In short:\n",
    "    \n",
    "    * first evaluate f(s,x):\n",
    "\n",
    "$$f_1 = f(s_1, x_1)$$\n",
    "next jump to the next x:\n",
    "\n",
    "$$x_2 = x_1 + \\Delta x$$\n",
    "estimate the new value of s:\n",
    "\n",
    "$$s_2 = s_1 + f(s_1,x_1) \\Delta x$$\n",
    "Evaluate f(s,t) at the new position:\n",
    "\n",
    "$$f_2 = f(s_2, x_2)$$\n",
    "Extrapolate using the average of the 'f' values:\n",
    "\n",
    "$$s_3 = s_1 + \\frac{1}{2}(f_1 + f_2) \\Delta x$$\n",
    "Now $s_3$ is the Heun's Method result.\n",
    "\n",
    "\n",
    "\n",
    "\n",
    "\n"
   ]
  },
  {
   "cell_type": "markdown",
   "metadata": {},
   "source": [
    "### Implementation/ Code & Results"
   ]
  },
  {
   "cell_type": "code",
   "execution_count": 1,
   "metadata": {},
   "outputs": [
    {
     "name": "stdout",
     "output_type": "stream",
     "text": [
      "Populating the interactive namespace from numpy and matplotlib\n",
      "************\n",
      "*Important data collected using Heun Method\n",
      "* -----------------------------------------\n",
      "* Total time (sec):  9.299999999999983\n",
      "* Highest altitude (m):  115.56478883257635\n",
      "* at time (s) 4.4\n",
      "* Range (m) 229.99999999999966\n",
      "************\n"
     ]
    },
    {
     "data": {
      "text/plain": [
       "<matplotlib.legend.Legend at 0x1cdcd94bba8>"
      ]
     },
     "execution_count": 1,
     "metadata": {},
     "output_type": "execute_result"
    },
    {
     "data": {
      "image/png": "[encoded data removed]",
      "text/plain": [
       "<Figure size 432x288 with 1 Axes>"
      ]
     },
     "metadata": {
      "needs_background": "light"
     },
     "output_type": "display_data"
    }
   ],
   "source": [
    "%pylab inline\n",
    "\n",
    "yo = 20 #m\n",
    "xo = 0  #m\n",
    "\n",
    "m = 0.43 #kgs\n",
    "g = array([0,-9.81]) #m/s/s\n",
    "vox = 50*cos(60*pi/180.0) #m/s\n",
    "voy = 50*sin(60*pi/180.0) #m/s\n",
    "dt = 0.1 #s\n",
    "t = 0 #s\n",
    "tf = 5 #s\n",
    "\n",
    "s = array([xo,yo,vox,voy]) #initialize the state\n",
    "\n",
    "def deriv_position(s,t):  #Define the derivatives\n",
    "    r=s[0:2]   #Position components\n",
    "    v=s[2:4]   #Velocity components\n",
    "    drdt = v   # derivative of position is velocity\n",
    "    dvdt = g   # derivative of velocity is acceleration\n",
    "    return array([drdt[0],drdt[1],dvdt[0],dvdt[1]])\n",
    "\n",
    "def HeunStep (s,t,deriv,dt):   # Define the Heun steps\n",
    "    f1 = deriv(s,t)        \n",
    "    f2 = deriv(s+f1*dt,t+dt)\n",
    "    return 0.5*(f1+f2)*dt+s       #The value to return \n",
    "\n",
    "tlist = [t]     #List containing t + time steps   \n",
    "ylist = [yo]    #list containing the values obtained using Heun steps\n",
    "y2list =[yo]\n",
    "hf =[0,0];\n",
    "print(\"************\")\n",
    "print(\"*Important data collected using Heun Method\")\n",
    "\n",
    "print(\"* -----------------------------------------\")\n",
    "while s[1]>0:\n",
    "    s = HeunStep(s, t, deriv_position, dt)\n",
    "    y = (0.5*g[1]*t*t)+(50*sin(60*pi/180)*t)+20      #Using physics to determine the actual curve\n",
    "    x = 50*cos(60*pi/180)*t\n",
    "    t += dt\n",
    "    ylist.append(s[1])\n",
    "    y2list.append(y)\n",
    "    tlist.append(t)\n",
    "    if (s[1]>hf[0]):\n",
    "        hf = [s[1],t]\n",
    "    if (s[1]<=0):\n",
    "        print(\"* Total time (sec): \",t)\n",
    "print(\"* Highest altitude (m): \",hf[0])\n",
    "print(\"* at time (s)\",hf[1])\n",
    "print(\"* Range (m)\",x)\n",
    "print(\"************\")\n",
    "xlabel(\"time (s)\")\n",
    "ylabel(\"Height\")\n",
    "title(\" Soccer Bal_Height in time (Heun)\")\n",
    "\n",
    "plot(tlist,ylist,'g.',tlist,y2list,'r-')  #graphs\n",
    "legend(['Heun','Physics',],loc=8)"
   ]
  },
  {
   "cell_type": "markdown",
   "metadata": {},
   "source": [
    "In this section, we will mostly be comparing the collected data using the Heun Method versus the data using the known laws of physics.\n",
    "We will be using the website OmniCalculator in order to obtain the actual data.\n",
    "https://www.omnicalculator.com/physics/projectile-motion\n",
    "\n",
    "The online calculator provided the following data:\n",
    "* Time of flight: 9.27096 sec\n",
    "* Range: 231.774 m\n",
    "* Maximum height: 115.5984 m at 4.6355 s"
   ]
  },
  {
   "cell_type": "markdown",
   "metadata": {},
   "source": [
    "For error calculations, we will use the following formula:\n",
    "\n",
    "$$ Error = \\frac{Data_Physics - Data_Heun}{Data_Physics} x 100 $$"
   ]
  },
  {
   "cell_type": "code",
   "execution_count": 2,
   "metadata": {},
   "outputs": [],
   "source": [
    "hf1= 115.56478883257635\n",
    "hf2 = 4.4\n",
    "ErrTime = abs((9.27096-t)/9.27096*0.01)\n",
    "ErrRange = abs((231.774-x)/231.774*0.01)\n",
    "ErrMaxH = abs((115.5984-hf1)/115.5984*0.01)\n",
    "ErrMaxT = abs((115.5984-hf2)/115.5984*0.01)"
   ]
  },
  {
   "cell_type": "markdown",
   "metadata": {},
   "source": [
    "### Conclusion"
   ]
  },
  {
   "cell_type": "code",
   "execution_count": 3,
   "metadata": {},
   "outputs": [
    {
     "name": "stdout",
     "output_type": "stream",
     "text": [
      " Error in time of flight(%) :  3.132361697168622e-05\n",
      " Error in range(%) :  7.654007783445693e-05\n",
      " Error in Maximum Height(%) :  2.907580677902415e-06\n",
      " Error in time of Max_Height(%) :  0.009619371894420685\n"
     ]
    }
   ],
   "source": [
    "print(\" Error in time of flight(%) : \",ErrTime)\n",
    "print(\" Error in range(%) : \",ErrRange)\n",
    "print(\" Error in Maximum Height(%) : \",ErrMaxH)\n",
    "print(\" Error in time of Max_Height(%) : \",ErrMaxT)"
   ]
  },
  {
   "cell_type": "markdown",
   "metadata": {},
   "source": [
    "In order to conclude, we used two approaches to collect the data of the flight. We assumed that air resistance(drag) was negligible due to the mass of the soccer ball. Heun Method was the centerpiece of our project and gave us very reasonable values and then we used an online calculator to validate our values. All the errors measured are under 1 percent. These values were expected. By looking at the two curves on the graph, we can see how slight is the difference between different values at a particular time t."
   ]
  }
 ],
 "metadata": {
  "kernelspec": {
   "display_name": "Python 3",
   "language": "python",
   "name": "python3"
  },
  "language_info": {
   "codemirror_mode": {
    "name": "ipython",
    "version": 3
   },
   "file_extension": ".py",
   "mimetype": "text/x-python",
   "name": "python",
   "nbconvert_exporter": "python",
   "pygments_lexer": "ipython3",
   "version": "3.7.1"
  }
 },
 "nbformat": 4,
 "nbformat_minor": 2
}
