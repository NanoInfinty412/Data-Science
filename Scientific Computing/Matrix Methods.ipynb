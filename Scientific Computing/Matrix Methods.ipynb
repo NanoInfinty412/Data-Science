{
 "cells": [
  {
   "cell_type": "markdown",
   "metadata": {},
   "source": [
    "## Project 6: Matrix Methods\n",
    "\n",
    "### Abstract & Description:\n",
    "\n",
    "This project involves performing thick lens calculations using a matrix representation of optical elements. In this experiment, we obtained the following results:\n",
    "\n",
    "System Matrix: $$M = \\begin{bmatrix} 1 &3 \\\\-0.24752475 & 0.25742574  \\end{bmatrix} $$\n",
    " and also obtained the following as focal length:\n",
    " $$ f = 4.04$$\n",
    "### Algorithm & Discussion: \n",
    "\n",
    "The math behind all this is quite long. The good thing is that it all boils down to two main matrix operators: Refraction and Translation.\n",
    "\n",
    "#### Refraction:\n",
    "$$\\hat{R}\\left|r_0\\right\\rangle = \\begin{bmatrix} 1 &amp; 0 \\\\ \\frac{n_l - n_r}{R n_r} &amp; \\frac{n_l}{n_r} \\end{bmatrix} \\begin{bmatrix} y_0 \\\\ \\alpha_0\\end{bmatrix}$$\n",
    "#### Translation\n",
    "$$\\hat{T}\\left|r_0\\right\\rangle = \\begin{bmatrix} 1 &amp; L \\\\ 0 &amp; 1 \\end{bmatrix} \\begin{bmatrix} y_0 \\\\ \\alpha_0\\end{bmatrix}$$\n",
    "\n",
    "Where $n_l$ and $n_r$ are the indices of refraction on the left and right (respectively) of the refractive interface. $R$ is the radius of curvature of the refractive interface (positive if the center of curvature is to the right, negative to the left). $y_0$ is the height of the ray before the transition, $\\alpha_0$ is the angle (in radians) of the ray before the transition. $L$ is the length of the translation. Various combinations of these two operators can describe very complicated lens systems easily!\n",
    "\n",
    "### Implementation/ Code:\n"
   ]
  },
  {
   "cell_type": "code",
   "execution_count": 28,
   "metadata": {},
   "outputs": [
    {
     "name": "stdout",
     "output_type": "stream",
     "text": [
      "Populating the interactive namespace from numpy and matplotlib\n"
     ]
    }
   ],
   "source": [
    "%pylab inline"
   ]
  },
  {
   "cell_type": "code",
   "execution_count": 29,
   "metadata": {},
   "outputs": [
    {
     "data": {
      "text/plain": [
       "array([[0.8],\n",
       "       [0. ]])"
      ]
     },
     "execution_count": 29,
     "metadata": {},
     "output_type": "execute_result"
    }
   ],
   "source": [
    "ng=1.5  # index of glass\n",
    "na=1.0  # index of air\n",
    "h=0.8  # start with ray 1.0 cm above axis\n",
    "R=2.02  # radius of curvature of lens\n",
    "\n",
    "ray1 = array([[h],[0.0]])\n",
    "\n",
    "ray1"
   ]
  },
  {
   "cell_type": "code",
   "execution_count": 30,
   "metadata": {},
   "outputs": [
    {
     "data": {
      "text/plain": [
       "array([[1., 3.],\n",
       "       [0., 1.]])"
      ]
     },
     "execution_count": 30,
     "metadata": {},
     "output_type": "execute_result"
    }
   ],
   "source": [
    "T1 = array([[1.0, 3.0],\n",
    "            [0.0, 1.0]\n",
    "            ])\n",
    "T1"
   ]
  },
  {
   "cell_type": "code",
   "execution_count": 31,
   "metadata": {},
   "outputs": [
    {
     "data": {
      "text/plain": [
       "array([[0.8],\n",
       "       [0. ]])"
      ]
     },
     "execution_count": 31,
     "metadata": {},
     "output_type": "execute_result"
    }
   ],
   "source": [
    "ray2 = T1.dot(ray1)  # matrix multiplication is handled by the \"dot\" method of an array\n",
    "ray2"
   ]
  },
  {
   "cell_type": "code",
   "execution_count": 32,
   "metadata": {},
   "outputs": [
    {
     "data": {
      "text/plain": [
       "array([[ 1.        ,  0.        ],\n",
       "       [-0.1650165 ,  0.66666667]])"
      ]
     },
     "execution_count": 32,
     "metadata": {},
     "output_type": "execute_result"
    }
   ],
   "source": [
    "R1 = array([[1.0, 0.0],               # entering the curved surface\n",
    "            [(na-ng)/(ng*R), na/ng]])\n",
    "R1"
   ]
  },
  {
   "cell_type": "code",
   "execution_count": 33,
   "metadata": {},
   "outputs": [
    {
     "data": {
      "text/plain": [
       "array([[ 0.8      ],\n",
       "       [-0.1320132]])"
      ]
     },
     "execution_count": 33,
     "metadata": {},
     "output_type": "execute_result"
    }
   ],
   "source": [
    "ray3 = R1.dot(ray2)\n",
    "ray3"
   ]
  },
  {
   "cell_type": "code",
   "execution_count": 34,
   "metadata": {},
   "outputs": [
    {
     "data": {
      "text/plain": [
       "array([[1. , 0. ],\n",
       "       [0. , 1.5]])"
      ]
     },
     "execution_count": 34,
     "metadata": {},
     "output_type": "execute_result"
    }
   ],
   "source": [
    "R2 = array([[1.0,0.0],              # exiting the planer surface\n",
    "            [0.0, ng/na]])\n",
    "R2"
   ]
  },
  {
   "cell_type": "code",
   "execution_count": 35,
   "metadata": {},
   "outputs": [
    {
     "data": {
      "text/plain": [
       "array([[ 0.8      ],\n",
       "       [-0.1980198]])"
      ]
     },
     "execution_count": 35,
     "metadata": {},
     "output_type": "execute_result"
    }
   ],
   "source": [
    "ray4=R2.dot(ray3)\n",
    "ray4"
   ]
  },
  {
   "cell_type": "code",
   "execution_count": 36,
   "metadata": {},
   "outputs": [
    {
     "data": {
      "text/plain": [
       "4.04"
      ]
     },
     "execution_count": 36,
     "metadata": {},
     "output_type": "execute_result"
    }
   ],
   "source": [
    "fl=-ray4[0,0]/ray4[1,0]         # calculate the focal length from the height and angle of the ray.\n",
    "fl"
   ]
  },
  {
   "cell_type": "code",
   "execution_count": 37,
   "metadata": {},
   "outputs": [
    {
     "data": {
      "text/plain": [
       "4.04"
      ]
     },
     "execution_count": 37,
     "metadata": {},
     "output_type": "execute_result"
    }
   ],
   "source": [
    "na*R/(ng-na)                    # compare to the \"lens makers\" equation result.\n"
   ]
  },
  {
   "cell_type": "code",
   "execution_count": 40,
   "metadata": {},
   "outputs": [
    {
     "data": {
      "text/plain": [
       "array([[ 1.        ,  3.        ],\n",
       "       [-0.24752475,  0.25742574]])"
      ]
     },
     "execution_count": 40,
     "metadata": {},
     "output_type": "execute_result"
    }
   ],
   "source": [
    "M = R2.dot(R1.dot(T1))   # system matrix\n",
    "M"
   ]
  },
  {
   "cell_type": "code",
   "execution_count": 41,
   "metadata": {},
   "outputs": [
    {
     "data": {
      "text/plain": [
       "array([[ 0.8      ],\n",
       "       [-0.1980198]])"
      ]
     },
     "execution_count": 41,
     "metadata": {},
     "output_type": "execute_result"
    }
   ],
   "source": [
    "M.dot(ray1)             # system acting on ray1"
   ]
  },
  {
   "cell_type": "markdown",
   "metadata": {},
   "source": [
    "### Results\n",
    "\n",
    "Using the actual math, in order to solve for for the focal length, we need to use the following formula:\n",
    " $$f = \\frac{n_gxR}{n_g-n_a} = 4.04$$\n",
    "What did the experiment give us?\n",
    "We obtained the same exact answer with absolutely no error within the 2 first decimal digits. \n",
    "After applying the Refraction and Translation matrix operator, we ended up with the following:\n",
    "\n",
    " $$M = \\begin{bmatrix} 1 &3; 0 \\\\-0.24752475 & 0.25742574  \\end{bmatrix} $$\n",
    "\n",
    "The system matrix is very important when it comes to solving for different systems acting on given rays.\n",
    "As an illustration, by doing the matrix multiplication of the system matrix and ray1's entries, we ended up with the following:\n",
    "  $$M = \\begin{bmatrix} 0.8; 0 \\\\-0.1980198  \\end{bmatrix} $$\n",
    "  \n",
    "### Conclusion\n",
    "\n",
    "For this experiment, we were trying to use Matrices in order to solve Optics problems. This was merely for the sake of familiarizing students with the use of matrices in python and also as a tool for solving scientific problems. Altogether, we solved for the focal length and obtained a solution with no error. "
   ]
  },
  {
   "cell_type": "code",
   "execution_count": null,
   "metadata": {},
   "outputs": [],
   "source": []
  }
 ],
 "metadata": {
  "kernelspec": {
   "display_name": "Python 3",
   "language": "python",
   "name": "python3"
  },
  "language_info": {
   "codemirror_mode": {
    "name": "ipython",
    "version": 3
   },
   "file_extension": ".py",
   "mimetype": "text/x-python",
   "name": "python",
   "nbconvert_exporter": "python",
   "pygments_lexer": "ipython3",
   "version": "3.7.1"
  }
 },
 "nbformat": 4,
 "nbformat_minor": 2
}
