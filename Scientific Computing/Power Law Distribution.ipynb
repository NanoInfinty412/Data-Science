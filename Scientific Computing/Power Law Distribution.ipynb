{
 "cells": [
  {
   "cell_type": "markdown",
   "metadata": {},
   "source": [
    "## Project 7: Power Law Distributions\n",
    "\n",
    "\n",
    "### Abstract & Description:\n",
    "\n",
    "\n",
    "\n",
    "  A power law distribution in statistics is described as the relationship between two different set of data that occurs when one set changes as a power function of the other. In this experiment, we study the sizes in acres of wildfires occurring on US federal land between 1986 and 1996 and we will be counting how many times wildfires occurred for a certain land area.\n",
    "The study of Power Law Distributions requires the use of logarithms. In our case, we use logarithms to solve for the slope of the set of data and calculate the error with the actual data.\n",
    "As a result, we obtain the following:\n",
    "\n",
    "$m= -0.48316302192218863 +/- 0.001925179763890549 $\n",
    "\n",
    "$b= 9.226185989074825 +/- 0.005604600100309432 $\n",
    "\n",
    "\n",
    "Cov-matrix solution:\n",
    "\n",
    "$m= -0.483163022434125 +/- 0.029049846592620915$\n",
    "\n",
    "$b= 9.226185990168258 +/- 0.08346544428817503$\n",
    "\n",
    "### Algorithm and Discussion\n",
    "##### Fitting Data with Matrices \n",
    "\n",
    "\n",
    "We can see that we have something that looks like it might be a power law. How can we tell? We'll use \"linear least squares\" analysis.\n",
    "\n",
    "When fitting some experimental data to a model, there are typically a set of parameters $(\\alpha_1, \\alpha_2, \\ldots, \\alpha_n)$ that need to be found so that the function $\\chi^2$ is a minimum. We can think of the parameters as an n-vector called $\\alpha$. The data consist of a set of paired numbers $(x_i, y_i)$ and we can define $\\chi^2$ as\n",
    "\n",
    "$$\n",
    "\\chi^2 = \\sum_{i=1}^{m} {(y_i - y^\\star(x_i,\\alpha))^2\\over \\sigma_i^2},\n",
    "$$\n",
    "where $\\sigma_i$ is the uncertainty in $y_i$, and $y^\\star$ is the model value corresponding to $x_i$ (and the value of the parameters $\\alpha$). If the model $y^\\star(x,\\vec\\alpha)$ is linear then we can write $y^\\star$ as:\n",
    "\n",
    "$$\n",
    "y^\\star (x) = \\alpha_1 X_1(x)+\\alpha_2 X_2(x)+\\ldots+\\alpha_n X_n(x).\n",
    "$$\n",
    "or\n",
    "\n",
    "$$\n",
    "y^\\star(x) = \\sum_{j=1}^{n} \\alpha_j X_j(x),\n",
    "$$\n",
    "where the $X_j$ are a set of functions that are to be superposed with coefficients $\\alpha_j$ to form the model. A common example of this would be a straight line fit $y^\\star(x) = mx+b$ where the functions are $x$ and 1 for the paramters $m$ and $b$ respectively.\n",
    "\n",
    "Notice that, since the $x$'s are at fixed measured values, this whole thing can be cast into a single matrix equation. If we define the following $M$ matrix:\n",
    "\n",
    "$$\n",
    "M_{ij} = X_j(x_i)\n",
    "$$\n",
    "and if we think of $y^\\star$ as an $m$-vector of model values evaluated at the $m$ data points $x_i$ and $y$ as an experimental $m$-vector $y$, then the model vector can be evaluated by matrix multiplication as:\n",
    "\n",
    "$$\n",
    "y^\\star = M \\alpha\n",
    "$$\n",
    "and the difference vector between the model and the data becomes simply\n",
    "\n",
    "$$\n",
    "y - y^\\star = y - M\\alpha\n",
    "$$\n",
    "Finally we can write $\\chi^2$ as\n",
    "\n",
    "$$\n",
    "\\chi^2 = (y - M\\alpha)^T S (y - M\\alpha) \\,\\,\\,\\,\\,\\,\\,\\,(1)\n",
    "$$\n",
    "where $S$ is a diagonal matrix of $1/\\sigma_i^2$ and the $T$ on the left side means \"transpose\".\n",
    "\n",
    "Now it is a simple matter to find the values of the paramters that minimize $\\chi^2$. We require that $\\nabla_{\\alpha}\\chi^2 = 0$. If you play around with this you can convince yourself that this means:\n",
    "\n",
    "$$\n",
    "M^T S(y - M\\alpha) = 0\n",
    "$$\n",
    "and therefore:\n",
    "\n",
    "$$\n",
    "\\alpha = (M^T SM)^{-1}M^T S y.  \\,\\,\\,\\,\\,\\,\\,\\,(2)\n",
    "$$\n"
   ]
  },
  {
   "cell_type": "code",
   "execution_count": 144,
   "metadata": {},
   "outputs": [
    {
     "name": "stdout",
     "output_type": "stream",
     "text": [
      "Populating the interactive namespace from numpy and matplotlib\n"
     ]
    }
   ],
   "source": [
    "%pylab inline\n",
    "\n",
    "import pandas as pd                    # pandas is the \"python data analysis package\"\n",
    "\n",
    "import os                              # operating system services\n",
    "from scipy.optimize import curve_fit   # non-linear curve fitting"
   ]
  },
  {
   "cell_type": "code",
   "execution_count": 145,
   "metadata": {},
   "outputs": [],
   "source": [
    "f = open(\"Proj7Data.csv\")\n",
    "data_file = f.readlines()"
   ]
  },
  {
   "cell_type": "code",
   "execution_count": 146,
   "metadata": {},
   "outputs": [],
   "source": [
    "data = []\n",
    "for i in data_file:\n",
    "    data.append(float(i))"
   ]
  },
  {
   "cell_type": "code",
   "execution_count": 147,
   "metadata": {},
   "outputs": [
    {
     "data": {
      "text/plain": [
       "Text(0.5, 0, 'log(wildfires in acres)')"
      ]
     },
     "execution_count": 147,
     "metadata": {},
     "output_type": "execute_result"
    },
    {
     "data": {
      "image/png": "[encoded data removed]",
      "text/plain": [
       "<Figure size 432x288 with 1 Axes>"
      ]
     },
     "metadata": {
      "needs_background": "light"
     },
     "output_type": "display_data"
    }
   ],
   "source": [
    "ns,bins,patches = hist(np.log(array(data)),bins=np.linspace(0,11,40))\n",
    "title(\"The sizes in acres of wildfires occurring on US federal land between 1986 and 1996.\")\n",
    "ylabel(\"count\")\n",
    "xlabel(\"log(wildfires in acres)\")"
   ]
  },
  {
   "cell_type": "code",
   "execution_count": 148,
   "metadata": {},
   "outputs": [
    {
     "data": {
      "text/plain": [
       "[<matplotlib.lines.Line2D at 0x1bd6bac7710>]"
      ]
     },
     "execution_count": 148,
     "metadata": {},
     "output_type": "execute_result"
    },
    {
     "data": {
      "image/png": "[encoded data removed]",
      "text/plain": [
       "<Figure size 432x288 with 1 Axes>"
      ]
     },
     "metadata": {
      "needs_background": "light"
     },
     "output_type": "display_data"
    }
   ],
   "source": [
    "xvals=(bins[:-1]+bins[1:])/2.0\n",
    "counts=ns+1\n",
    "yvals=log(counts)\n",
    "title(\"The sizes in acres of wildfires occurring on US federal land between 1986 and 1996.\")\n",
    "ylabel(\"log(count)\")\n",
    "xlabel(\"log(wildfires in acres)\")\n",
    "plot(xvals,yvals,'b.')"
   ]
  },
  {
   "cell_type": "code",
   "execution_count": 149,
   "metadata": {},
   "outputs": [
    {
     "data": {
      "text/plain": [
       "[<matplotlib.lines.Line2D at 0x1bd6bf106d8>]"
      ]
     },
     "execution_count": 149,
     "metadata": {},
     "output_type": "execute_result"
    },
    {
     "data": {
      "image/png": "[encoded data removed]",
      "text/plain": [
       "<Figure size 432x288 with 1 Axes>"
      ]
     },
     "metadata": {
      "needs_background": "light"
     },
     "output_type": "display_data"
    }
   ],
   "source": [
    "\n",
    "\n",
    "def doFit(funcs, xvals, yvals, sigma):    \n",
    "    S=diag((1.0/sigma)**2)\n",
    "    \n",
    "    M = array(funcs).T\n",
    "    MtM = M.T.dot(S.dot(M))\n",
    "    MtMInv = inv(MtM)\n",
    "    MtY = M.T.dot(S.dot(yvals))\n",
    "    alpha = MtMInv.dot(MtY)     \n",
    "    \n",
    "    ystar = M.dot(alpha)\n",
    "    \n",
    "    return (alpha, ystar, MtMInv)\n",
    "\n",
    "fx1 = ones(len(xvals)) \n",
    "fx2 = xvals             \n",
    "sigma=1.0/sqrt(abs(counts))\n",
    "\n",
    "alpha, ystar, fcov = doFit([fx1, fx2], xvals, yvals, sigma)\n",
    "\n",
    "mFit = alpha[1]\n",
    "bFit = alpha[0]\n",
    "\n",
    "errorbar(xvals, yvals, sigma, fmt='r.') \n",
    "title(\"The sizes in acres of wildfires occurring on US federal land between 1986 and 1996.\")\n",
    "ylabel(\"log(count)\")\n",
    "xlabel(\"log(wildfires in acres)\")\n",
    "\n",
    "plot(xvals,ystar, 'b-')\n"
   ]
  },
  {
   "cell_type": "code",
   "execution_count": 150,
   "metadata": {},
   "outputs": [
    {
     "name": "stdout",
     "output_type": "stream",
     "text": [
      "Compare to cov-matrix for fun:\n",
      "Slope= -0.483163022434125 \n",
      "Intercept=  9.226185990168258\n",
      "sqsrt(cov[1,1]) (should be sigma m) 0.001915810900987655\n",
      "sqrt(cov[0,0]) (should be sigma b) 0.00550446997655349\n"
     ]
    }
   ],
   "source": [
    "\n",
    "N=1000    \n",
    "mList=[] \n",
    "bList=[]\n",
    "\n",
    "for i in range(N):\n",
    "   \n",
    "    mcY = ystar + sigma*normal(size=len(xvals))\n",
    "    mcAlpha,mcYstar,mccov = doFit([fx1,fx2],xvals,mcY,sigma)   # repeatedly fit mc data\n",
    "    mList.append(mcAlpha[1])\n",
    "    bList.append(mcAlpha[0])\n",
    "    \n",
    "marr=array(mList)\n",
    "barr=array(bList)\n",
    "\n",
    "mAvg = marr.sum()/N\n",
    "bAvg = barr.sum()/N\n",
    "delM = marr-mAvg\n",
    "delB = barr-bAvg\n",
    "sigM = sqrt((delM*delM).sum()/(N-1)) # sigM is the std-deviation of the m values \n",
    "sigB = sqrt((delB*delB).sum()/(N-1))   # sigB is the std-deviation of the b values\n",
    "\n",
    "\n",
    "\n",
    "print # print a blank link\n",
    "print(\"Compare to cov-matrix for fun:\\nSlope=\", alpha[1],\"\\nIntercept= \",alpha[0])\n",
    "print(\"sqsrt(cov[1,1]) (should be sigma m)\", sqrt(fcov[1,1]))\n",
    "print(\"sqrt(cov[0,0]) (should be sigma b)\", sqrt(fcov[0,0]))\n"
   ]
  },
  {
   "cell_type": "code",
   "execution_count": 151,
   "metadata": {},
   "outputs": [
    {
     "name": "stdout",
     "output_type": "stream",
     "text": [
      "Slope= -0.48316302192218863 +/- 0.0018806164909989335 ( -0.48504363841318754 , -0.4812824054311897 )\n",
      "Intercept= 9.226185989074825 +/- 0.005431669305077733 ( 9.14272054478665 , 9.231617658379902 )\n",
      "\n",
      "Compare to cov-matrix for fun:\n",
      "Slope= -0.483163022434125 \n",
      "Intercept=  9.226185990168258\n",
      "sqsrt(pcov[0,0]) (should be sigma m) 0.029049846592620915\n",
      "sqrt(pcov[1,1]) (should be sigma b) 0.08346544428817503\n"
     ]
    },
    {
     "data": {
      "image/png": "[encoded data removed]",
      "text/plain": [
       "<Figure size 432x288 with 1 Axes>"
      ]
     },
     "metadata": {
      "needs_background": "light"
     },
     "output_type": "display_data"
    }
   ],
   "source": [
    "#\n",
    "# Just to see same data fit using the non-linear scipy package \"curve_fit\":\n",
    "#\n",
    "\n",
    "def fLinear(x, m, b):\n",
    "    return m*x + b\n",
    "\n",
    "popt, pcov = curve_fit(fLinear, xvals, yvals, p0=(alpha[1],alpha[0]), sigma=sigma)\n",
    "\n",
    "m=popt[0]          # slope\n",
    "dm=sqrt(pcov[0,0]) # sqrt(variance(slope))\n",
    "b=popt[1]          # int\n",
    "db=sqrt(pcov[1,1]) # sqrt(variance(int))\n",
    "ystar=fLinear(xvals, m, b)\n",
    "\n",
    "N=1000    # number of samples to take\n",
    "mList=[]  # keep track of monte-carlo fit parameters\n",
    "bList=[]\n",
    "\n",
    "for i in range(N):\n",
    "    \"\"\"\n",
    "    Generate mc data with the same statistical properties as the real data.\n",
    "    Repeat the fit for each set, and record the parameters.\n",
    "    \"\"\"\n",
    "    mcY = ystar + sigma*normal(size=len(xvals))  # generate fabricated data to fit\n",
    "    mcpopt, mcpcov = curve_fit(fLinear, xvals, mcY, p0=(m,b), sigma=sigma)\n",
    "    mList.append(mcpopt[0])  # store the fit paramters for the fab-data\n",
    "    bList.append(mcpopt[1])\n",
    "    \n",
    "#\n",
    "# Compute the statistics of the mc-results\n",
    "#\n",
    "marr=array(mList)\n",
    "barr=array(bList)\n",
    "\n",
    "mAvg = marr.sum()/N\n",
    "bAvg = barr.sum()/N\n",
    "delM = marr-mAvg\n",
    "delB = barr-bAvg\n",
    "sigM = sqrt((delM*delM).sum()/(N-1))  # sigM is the std-deviation of the m values\n",
    "sigB = sqrt((delB*delB).sum()/(N-1))  # sigB is the std-deviation of the b values\n",
    "\n",
    "errorbar(xvals, yvals, sigma, fmt='r.') \n",
    "title(\"The sizes in acres of wildfires occurring on US federal land between 1986 and 1996.\")\n",
    "ylabel(\"log(count)\")\n",
    "xlabel(\"log(wildfires in acres)\")\n",
    "\n",
    "plot(xvals,ystar, 'g-')\n",
    "print(\"Slope=\", m, '+/-', sigM, \"(\", m-sigM,\",\",m+sigM, \")\")\n",
    "print(\"Intercept=\", b, '+/-', sigB, \"(\", b-db,\",\",b+sigB, \")\")\n",
    "\n",
    "print() # print a blank link\n",
    "print(\"Compare to cov-matrix for fun:\\nSlope=\", alpha[1],\"\\nIntercept= \",alpha[0])\n",
    "print(\"sqsrt(pcov[0,0]) (should be sigma m)\", sqrt(pcov[0,0]))\n",
    "print(\"sqrt(pcov[1,1]) (should be sigma b)\", sqrt(pcov[1,1]))\n"
   ]
  },
  {
   "cell_type": "markdown",
   "metadata": {},
   "source": [
    "### Results \n",
    "\n",
    "In this experiment, we used two techniques to solve for the slope and the intercept with their respective margin of errors:\n",
    "\n",
    "1. Curve-fitting function: \n",
    "\n",
    "Already implemented in python. With a couple of manipulations, it gave the following as results:\n",
    "\n",
    "Slope= -0.483163022434125 \n",
    "\n",
    "Intercept=  9.226185990168258\n",
    "###### Reults with Error:\n",
    "$ m_E = -0.483163022434125 +/- 0.029049846592620915$\n",
    "\n",
    "$ b_E = 9.226185990168258 +/- 0.08346544428817503$\n",
    "2. Monte Carlo simulation with Matrices:\n",
    "\n",
    "We used the Monte carlo algorithm in order to generate fabricated data. The data used here are not real data, but they follow the same pattern and have the same behavior as the real ones. We ended up with the following:\n",
    "###### Results with Error:\n",
    "\n",
    "$ m_E= -0.48316302192218863 +/- 0.0019404398208205684$\n",
    "\n",
    "$ b_E= 9.226185989074825 +/- 0.00545347272670797$ \n",
    "\n",
    "Just by looking at the numbers, we can clearly see how the numbers how close to the ones obtained before. But, let's now compute the error between the results obtained with the Monte Carlo and the Curve-Fitting function and state whether or not the Monte Carlo technique can be used in such a problem.\n",
    "$$ Error = \\frac{Data_c - Data_m}{Data_c} x 100 $$\n",
    "\n",
    "Error in slope $< 10^-7$ \n",
    "\n",
    "Error in Intercept $< 10^-8$"
   ]
  },
  {
   "cell_type": "markdown",
   "metadata": {},
   "source": [
    "### Conclusion\n",
    "\n",
    "For this experiment, we used the data of the sizes in acres of wildfires occurring on US federal land between 1986 and 1996 in order to explore in depth Power Law Distribution. We ended up applying a couple of techniques for fitting  and observed that both of them are valid.\n",
    "Altogether, it would be safe to declare that both techniques boil down to the same results, or almost by considering how small the errors between their results are, mostly less than $10^-7$. "
   ]
  }
 ],
 "metadata": {
  "kernelspec": {
   "display_name": "Python 3",
   "language": "python",
   "name": "python3"
  },
  "language_info": {
   "codemirror_mode": {
    "name": "ipython",
    "version": 3
   },
   "file_extension": ".py",
   "mimetype": "text/x-python",
   "name": "python",
   "nbconvert_exporter": "python",
   "pygments_lexer": "ipython3",
   "version": "3.7.1"
  }
 },
 "nbformat": 4,
 "nbformat_minor": 2
}
